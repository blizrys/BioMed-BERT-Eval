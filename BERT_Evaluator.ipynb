{
  "nbformat": 4,
  "nbformat_minor": 0,
  "metadata": {
    "colab": {
      "name": "BERT_Evaluator.ipynb",
      "provenance": [],
      "collapsed_sections": [],
      "toc_visible": true,
      "include_colab_link": true
    },
    "kernelspec": {
      "display_name": "Python 3",
      "language": "python",
      "name": "python3"
    },
    "language_info": {
      "codemirror_mode": {
        "name": "ipython",
        "version": 3
      },
      "file_extension": ".py",
      "mimetype": "text/x-python",
      "name": "python",
      "nbconvert_exporter": "python",
      "pygments_lexer": "ipython3",
      "version": "3.7.7"
    },
    "accelerator": "GPU"
  },
  "cells": [
    {
      "cell_type": "markdown",
      "metadata": {
        "id": "view-in-github",
        "colab_type": "text"
      },
      "source": [
        "<a href=\"https://colab.research.google.com/github/blizrys/MinorThesisBERT/blob/main/BERT_Evaluator.ipynb\" target=\"_parent\"><img src=\"https://colab.research.google.com/assets/colab-badge.svg\" alt=\"Open In Colab\"/></a>"
      ]
    },
    {
      "cell_type": "markdown",
      "metadata": {
        "id": "pvV7Uo69gXKx"
      },
      "source": [
        "Configuration initialization"
      ]
    },
    {
      "cell_type": "code",
      "metadata": {
        "colab": {
          "base_uri": "https://localhost:8080/"
        },
        "id": "dbwf8ZQ4msnh",
        "outputId": "5036240d-793e-45a2-d73f-41f4dd7ecb94"
      },
      "source": [
        "# Mount Google Drive\n",
        "from google.colab import drive\n",
        "drive.mount('/content/drive') "
      ],
      "execution_count": 1,
      "outputs": [
        {
          "output_type": "stream",
          "text": [
            "Mounted at /content/drive\n"
          ],
          "name": "stdout"
        }
      ]
    },
    {
      "cell_type": "code",
      "metadata": {
        "id": "JLqrn9hCYWuT"
      },
      "source": [
        "# Locate path of data in 'google drive'\n",
        "DATA_PATH = '/content/drive/MyDrive/MinorThesis/dataset/'\n",
        "SEED_NUMBER = 19900506"
      ],
      "execution_count": 2,
      "outputs": []
    },
    {
      "cell_type": "markdown",
      "metadata": {
        "id": "EaNmxQExPePh"
      },
      "source": [
        "# BERT Evaluator for Minor Thesis\n",
        "\n",
        "**Student Name:**  Jirarote Jirasirikul\n",
        "\n",
        "**Student ID:**    31334679"
      ]
    },
    {
      "cell_type": "markdown",
      "metadata": {
        "id": "5R7p3ovrgzrW"
      },
      "source": [
        "## Import Library\n",
        "\n",
        "All Library and File Path will be added here"
      ]
    },
    {
      "cell_type": "code",
      "metadata": {
        "id": "T8yVR-2GwofX"
      },
      "source": [
        "# # Installation (Uncomment if need to installation or update library)\n",
        "# !pip install spacy #==2.0.11\n",
        "# !pip install transformers"
      ],
      "execution_count": 3,
      "outputs": []
    },
    {
      "cell_type": "code",
      "metadata": {
        "colab": {
          "base_uri": "https://localhost:8080/"
        },
        "id": "SVHZHjgso3hK",
        "outputId": "f8e0c154-cd52-41d7-af81-5df494571966"
      },
      "source": [
        "!pip install transformers\n",
        "import transformers as ppb"
      ],
      "execution_count": 4,
      "outputs": [
        {
          "output_type": "stream",
          "text": [
            "Collecting transformers\n",
            "\u001b[?25l  Downloading https://files.pythonhosted.org/packages/d5/43/cfe4ee779bbd6a678ac6a97c5a5cdeb03c35f9eaebbb9720b036680f9a2d/transformers-4.6.1-py3-none-any.whl (2.2MB)\n",
            "\u001b[K     |████████████████████████████████| 2.3MB 8.0MB/s \n",
            "\u001b[?25hRequirement already satisfied: packaging in /usr/local/lib/python3.7/dist-packages (from transformers) (20.9)\n",
            "Requirement already satisfied: requests in /usr/local/lib/python3.7/dist-packages (from transformers) (2.23.0)\n",
            "Requirement already satisfied: filelock in /usr/local/lib/python3.7/dist-packages (from transformers) (3.0.12)\n",
            "Collecting sacremoses\n",
            "\u001b[?25l  Downloading https://files.pythonhosted.org/packages/75/ee/67241dc87f266093c533a2d4d3d69438e57d7a90abb216fa076e7d475d4a/sacremoses-0.0.45-py3-none-any.whl (895kB)\n",
            "\u001b[K     |████████████████████████████████| 901kB 48.0MB/s \n",
            "\u001b[?25hCollecting huggingface-hub==0.0.8\n",
            "  Downloading https://files.pythonhosted.org/packages/a1/88/7b1e45720ecf59c6c6737ff332f41c955963090a18e72acbcbeac6b25e86/huggingface_hub-0.0.8-py3-none-any.whl\n",
            "Requirement already satisfied: tqdm>=4.27 in /usr/local/lib/python3.7/dist-packages (from transformers) (4.41.1)\n",
            "Requirement already satisfied: importlib-metadata; python_version < \"3.8\" in /usr/local/lib/python3.7/dist-packages (from transformers) (4.0.1)\n",
            "Requirement already satisfied: regex!=2019.12.17 in /usr/local/lib/python3.7/dist-packages (from transformers) (2019.12.20)\n",
            "Collecting tokenizers<0.11,>=0.10.1\n",
            "\u001b[?25l  Downloading https://files.pythonhosted.org/packages/d4/e2/df3543e8ffdab68f5acc73f613de9c2b155ac47f162e725dcac87c521c11/tokenizers-0.10.3-cp37-cp37m-manylinux_2_5_x86_64.manylinux1_x86_64.manylinux_2_12_x86_64.manylinux2010_x86_64.whl (3.3MB)\n",
            "\u001b[K     |████████████████████████████████| 3.3MB 41.8MB/s \n",
            "\u001b[?25hRequirement already satisfied: numpy>=1.17 in /usr/local/lib/python3.7/dist-packages (from transformers) (1.19.5)\n",
            "Requirement already satisfied: pyparsing>=2.0.2 in /usr/local/lib/python3.7/dist-packages (from packaging->transformers) (2.4.7)\n",
            "Requirement already satisfied: urllib3!=1.25.0,!=1.25.1,<1.26,>=1.21.1 in /usr/local/lib/python3.7/dist-packages (from requests->transformers) (1.24.3)\n",
            "Requirement already satisfied: certifi>=2017.4.17 in /usr/local/lib/python3.7/dist-packages (from requests->transformers) (2020.12.5)\n",
            "Requirement already satisfied: chardet<4,>=3.0.2 in /usr/local/lib/python3.7/dist-packages (from requests->transformers) (3.0.4)\n",
            "Requirement already satisfied: idna<3,>=2.5 in /usr/local/lib/python3.7/dist-packages (from requests->transformers) (2.10)\n",
            "Requirement already satisfied: click in /usr/local/lib/python3.7/dist-packages (from sacremoses->transformers) (7.1.2)\n",
            "Requirement already satisfied: six in /usr/local/lib/python3.7/dist-packages (from sacremoses->transformers) (1.15.0)\n",
            "Requirement already satisfied: joblib in /usr/local/lib/python3.7/dist-packages (from sacremoses->transformers) (1.0.1)\n",
            "Requirement already satisfied: zipp>=0.5 in /usr/local/lib/python3.7/dist-packages (from importlib-metadata; python_version < \"3.8\"->transformers) (3.4.1)\n",
            "Requirement already satisfied: typing-extensions>=3.6.4; python_version < \"3.8\" in /usr/local/lib/python3.7/dist-packages (from importlib-metadata; python_version < \"3.8\"->transformers) (3.7.4.3)\n",
            "Installing collected packages: sacremoses, huggingface-hub, tokenizers, transformers\n",
            "Successfully installed huggingface-hub-0.0.8 sacremoses-0.0.45 tokenizers-0.10.3 transformers-4.6.1\n"
          ],
          "name": "stdout"
        }
      ]
    },
    {
      "cell_type": "code",
      "metadata": {
        "id": "dF5f8SlWm1pO"
      },
      "source": [
        "import pandas as pd\n",
        "import numpy as np\n",
        "\n",
        "from sklearn.linear_model import LogisticRegression\n",
        "from sklearn.metrics import precision_score, recall_score, f1_score, accuracy_score, confusion_matrix, matthews_corrcoef\n",
        "\n",
        "from torch.utils.data import TensorDataset, DataLoader, RandomSampler, SequentialSampler"
      ],
      "execution_count": 5,
      "outputs": []
    },
    {
      "cell_type": "code",
      "metadata": {
        "id": "JgAJRyveSxKi"
      },
      "source": [
        "# # MY GLOBAL FUNCTION - \n",
        "\n",
        "# ENABLE_LOGS = 1\n",
        "# def print_log(*arg,log_type='Info'):\n",
        "#     global ENABLE_LOGS\n",
        "#     if(ENABLE_LOGS): \n",
        "#         print(\"[\"+log_type+\"]\",\" \".join(arg))\n",
        "\n",
        "# print_log(\"This\",\"is\")"
      ],
      "execution_count": 6,
      "outputs": []
    },
    {
      "cell_type": "markdown",
      "metadata": {
        "id": "IefVNs1t6126"
      },
      "source": [
        "## Check Available Device (CPU/GPU)"
      ]
    },
    {
      "cell_type": "code",
      "metadata": {
        "colab": {
          "base_uri": "https://localhost:8080/"
        },
        "id": "0-y7tvn3W56D",
        "outputId": "c0c25c17-0cc3-42f5-cf6c-907380c297f5"
      },
      "source": [
        "import torch\n",
        "# If there's a GPU available...\n",
        "if torch.cuda.is_available():    \n",
        "    # Tell PyTorch to use the GPU.    \n",
        "    DEVICE_AVAILABLE = torch.device(\"cuda\")\n",
        "\n",
        "    print('There are %d GPU(s) available.' % torch.cuda.device_count())\n",
        "\n",
        "    print('We will use the GPU:', torch.cuda.get_device_name(0))\n",
        "\n",
        "# If not...\n",
        "else:\n",
        "    print('No GPU available, using the CPU instead.')\n",
        "    DEVICE_AVAILABLE = torch.device(\"cpu\")"
      ],
      "execution_count": 7,
      "outputs": [
        {
          "output_type": "stream",
          "text": [
            "There are 1 GPU(s) available.\n",
            "We will use the GPU: Tesla T4\n"
          ],
          "name": "stdout"
        }
      ]
    },
    {
      "cell_type": "markdown",
      "metadata": {
        "id": "PZ-tcOwEpTtg"
      },
      "source": [
        "## Data Exploration"
      ]
    },
    {
      "cell_type": "markdown",
      "metadata": {
        "id": "oiiKcyspi9id"
      },
      "source": [
        "### Dataset : Hallmarks-of-Cancer\n",
        "The Hallmarks of Cancer Corpus for text classification\n",
        "\n",
        "The Hallmarks of Cancer (HOC) Corpus consists of 1852 PubMed publication abstracts manually annotated by experts according to a taxonomy. The taxonomy consists of 37 classes in a hierarchy. Zero or more class labels are assigned to each sentence in the corpus. The labels are found under the \"labels\" directory, while the tokenized text can be found under \"text\" directory. The filenames are the corresponding PubMed IDs (PMID).\n",
        "\n",
        "https://github.com/sb895/Hallmarks-of-Cancer\n",
        "\n"
      ]
    },
    {
      "cell_type": "code",
      "metadata": {
        "colab": {
          "base_uri": "https://localhost:8080/"
        },
        "id": "sCWYVDqXi8zA",
        "outputId": "0998684d-c765-47e8-db78-85b25946ea51"
      },
      "source": [
        "# Clone dataset\n",
        "!git clone https://github.com/sb895/Hallmarks-of-Cancer.git"
      ],
      "execution_count": 8,
      "outputs": [
        {
          "output_type": "stream",
          "text": [
            "Cloning into 'Hallmarks-of-Cancer'...\n",
            "remote: Enumerating objects: 3433, done.\u001b[K\n",
            "remote: Total 3433 (delta 0), reused 0 (delta 0), pack-reused 3433\u001b[K\n",
            "Receiving objects: 100% (3433/3433), 1.82 MiB | 18.30 MiB/s, done.\n",
            "Resolving deltas: 100% (256/256), done.\n"
          ],
          "name": "stdout"
        }
      ]
    },
    {
      "cell_type": "code",
      "metadata": {
        "colab": {
          "base_uri": "https://localhost:8080/",
          "height": 406
        },
        "id": "bCKN0PH0kaCj",
        "outputId": "52694630-5478-4df2-fb6d-1b30f190d552"
      },
      "source": [
        "import glob\n",
        "import os\n",
        "import pandas as pd\n",
        "from collections import defaultdict\n",
        "\n",
        "df = pd.DataFrame()\n",
        "\n",
        "file_list = os.listdir('/content/Hallmarks-of-Cancer/text/')\n",
        "\n",
        "file_list\n",
        "for filename in file_list:\n",
        "    temp_dict = {}\n",
        "    temp_dict['filename'] = filename\n",
        "    with open('/content/Hallmarks-of-Cancer/text/'+filename) as f_input:\n",
        "        temp_dict['text'] = f_input.read()\n",
        "    with open('/content/Hallmarks-of-Cancer/labels/'+filename) as f_input:\n",
        "        temp_dict['labels'] = f_input.read()\n",
        "    # print(temp_dict)\n",
        "    df = df.append(temp_dict, ignore_index=True)\n",
        "\n",
        "df"
      ],
      "execution_count": 9,
      "outputs": [
        {
          "output_type": "execute_result",
          "data": {
            "text/html": [
              "<div>\n",
              "<style scoped>\n",
              "    .dataframe tbody tr th:only-of-type {\n",
              "        vertical-align: middle;\n",
              "    }\n",
              "\n",
              "    .dataframe tbody tr th {\n",
              "        vertical-align: top;\n",
              "    }\n",
              "\n",
              "    .dataframe thead th {\n",
              "        text-align: right;\n",
              "    }\n",
              "</style>\n",
              "<table border=\"1\" class=\"dataframe\">\n",
              "  <thead>\n",
              "    <tr style=\"text-align: right;\">\n",
              "      <th></th>\n",
              "      <th>filename</th>\n",
              "      <th>labels</th>\n",
              "      <th>text</th>\n",
              "    </tr>\n",
              "  </thead>\n",
              "  <tbody>\n",
              "    <tr>\n",
              "      <th>0</th>\n",
              "      <td>12572356.txt</td>\n",
              "      <td>&lt; &lt; &lt; &lt;  Evading growth suppressors--By deregu...</td>\n",
              "      <td>The effects of tea polyphenols and tea pigment...</td>\n",
              "    </tr>\n",
              "    <tr>\n",
              "      <th>1</th>\n",
              "      <td>22575613.txt</td>\n",
              "      <td>&lt; &lt; &lt; &lt; &lt; &lt; &lt; &lt; &lt; &lt; &lt;</td>\n",
              "      <td>Whole genome duplications ( WGDs ) are conside...</td>\n",
              "    </tr>\n",
              "    <tr>\n",
              "      <th>2</th>\n",
              "      <td>20398195.txt</td>\n",
              "      <td>&lt; &lt; &lt; &lt; &lt; &lt; &lt;Resisting cell death--Necrosis&lt; &lt;...</td>\n",
              "      <td>Thyroid-like low-grade nasopharyngeal papillar...</td>\n",
              "    </tr>\n",
              "    <tr>\n",
              "      <th>3</th>\n",
              "      <td>22481237.txt</td>\n",
              "      <td>&lt; &lt; &lt; &lt;Sustaining proliferative signaling--Rec...</td>\n",
              "      <td>OBJECTIVE Expression of N-myc downstream-regul...</td>\n",
              "    </tr>\n",
              "    <tr>\n",
              "      <th>4</th>\n",
              "      <td>23272224.txt</td>\n",
              "      <td>&lt; &lt; &lt; &lt; &lt;Enabling replicative immortality--Sen...</td>\n",
              "      <td>Cellular senescence is considered as a tumor s...</td>\n",
              "    </tr>\n",
              "    <tr>\n",
              "      <th>...</th>\n",
              "      <td>...</td>\n",
              "      <td>...</td>\n",
              "      <td>...</td>\n",
              "    </tr>\n",
              "    <tr>\n",
              "      <th>1847</th>\n",
              "      <td>22913657.txt</td>\n",
              "      <td>&lt; &lt; &lt; &lt; &lt;Sustaining proliferative signaling--C...</td>\n",
              "      <td>Hesperetin , a flavonoid from citrus fruits , ...</td>\n",
              "    </tr>\n",
              "    <tr>\n",
              "      <th>1848</th>\n",
              "      <td>22919057.txt</td>\n",
              "      <td>&lt; &lt; &lt; &lt; &lt; &lt; &lt; &lt; &lt; &lt; &lt; &lt;</td>\n",
              "      <td>Mutations of the thyroid hormone receptor-β ge...</td>\n",
              "    </tr>\n",
              "    <tr>\n",
              "      <th>1849</th>\n",
              "      <td>23180767.txt</td>\n",
              "      <td>&lt; &lt; &lt; &lt; &lt;  Genomic instability and mutation--D...</td>\n",
              "      <td>The environmental arylamine mutagens are impli...</td>\n",
              "    </tr>\n",
              "    <tr>\n",
              "      <th>1850</th>\n",
              "      <td>23177934.txt</td>\n",
              "      <td>&lt; &lt; &lt; &lt; &lt; &lt;Tumor promoting inflammation--Infla...</td>\n",
              "      <td>Metabolic reprogramming of cancer cells provid...</td>\n",
              "    </tr>\n",
              "    <tr>\n",
              "      <th>1851</th>\n",
              "      <td>23013101.txt</td>\n",
              "      <td>&lt; &lt; &lt; &lt; &lt;Inducing angiogenesis--By deregulatin...</td>\n",
              "      <td>This study is to investigate the effects of bo...</td>\n",
              "    </tr>\n",
              "  </tbody>\n",
              "</table>\n",
              "<p>1852 rows × 3 columns</p>\n",
              "</div>"
            ],
            "text/plain": [
              "          filename  ...                                               text\n",
              "0     12572356.txt  ...  The effects of tea polyphenols and tea pigment...\n",
              "1     22575613.txt  ...  Whole genome duplications ( WGDs ) are conside...\n",
              "2     20398195.txt  ...  Thyroid-like low-grade nasopharyngeal papillar...\n",
              "3     22481237.txt  ...  OBJECTIVE Expression of N-myc downstream-regul...\n",
              "4     23272224.txt  ...  Cellular senescence is considered as a tumor s...\n",
              "...            ...  ...                                                ...\n",
              "1847  22913657.txt  ...  Hesperetin , a flavonoid from citrus fruits , ...\n",
              "1848  22919057.txt  ...  Mutations of the thyroid hormone receptor-β ge...\n",
              "1849  23180767.txt  ...  The environmental arylamine mutagens are impli...\n",
              "1850  23177934.txt  ...  Metabolic reprogramming of cancer cells provid...\n",
              "1851  23013101.txt  ...  This study is to investigate the effects of bo...\n",
              "\n",
              "[1852 rows x 3 columns]"
            ]
          },
          "metadata": {
            "tags": []
          },
          "execution_count": 9
        }
      ]
    },
    {
      "cell_type": "code",
      "metadata": {
        "id": "qiTs-HBQ9b2n"
      },
      "source": [
        "df_a = df.assign(labels_line=df['labels'].str.split('<')).explode('labels_line')"
      ],
      "execution_count": 10,
      "outputs": []
    },
    {
      "cell_type": "code",
      "metadata": {
        "id": "_pbR7f9t8P4U"
      },
      "source": [
        "df_b = df.assign(text_line=df['text'].str.split('\\n')).explode('text_line')"
      ],
      "execution_count": 11,
      "outputs": []
    },
    {
      "cell_type": "code",
      "metadata": {
        "id": "Z9GuypX99oTA"
      },
      "source": [
        "new_df = pd.concat([df_a, df_b], axis=1)"
      ],
      "execution_count": 12,
      "outputs": []
    },
    {
      "cell_type": "code",
      "metadata": {
        "colab": {
          "base_uri": "https://localhost:8080/",
          "height": 237
        },
        "id": "4ahCwrQG-5X5",
        "outputId": "c26340f2-d291-4711-8b1b-beb279cb3b6d"
      },
      "source": [
        "new_df.head(3)"
      ],
      "execution_count": 13,
      "outputs": [
        {
          "output_type": "execute_result",
          "data": {
            "text/html": [
              "<div>\n",
              "<style scoped>\n",
              "    .dataframe tbody tr th:only-of-type {\n",
              "        vertical-align: middle;\n",
              "    }\n",
              "\n",
              "    .dataframe tbody tr th {\n",
              "        vertical-align: top;\n",
              "    }\n",
              "\n",
              "    .dataframe thead th {\n",
              "        text-align: right;\n",
              "    }\n",
              "</style>\n",
              "<table border=\"1\" class=\"dataframe\">\n",
              "  <thead>\n",
              "    <tr style=\"text-align: right;\">\n",
              "      <th></th>\n",
              "      <th>filename</th>\n",
              "      <th>labels</th>\n",
              "      <th>text</th>\n",
              "      <th>labels_line</th>\n",
              "      <th>filename</th>\n",
              "      <th>labels</th>\n",
              "      <th>text</th>\n",
              "      <th>text_line</th>\n",
              "    </tr>\n",
              "  </thead>\n",
              "  <tbody>\n",
              "    <tr>\n",
              "      <th>0</th>\n",
              "      <td>12572356.txt</td>\n",
              "      <td>&lt; &lt; &lt; &lt;  Evading growth suppressors--By deregu...</td>\n",
              "      <td>The effects of tea polyphenols and tea pigment...</td>\n",
              "      <td></td>\n",
              "      <td>12572356.txt</td>\n",
              "      <td>&lt; &lt; &lt; &lt;  Evading growth suppressors--By deregu...</td>\n",
              "      <td>The effects of tea polyphenols and tea pigment...</td>\n",
              "      <td>The effects of tea polyphenols and tea pigment...</td>\n",
              "    </tr>\n",
              "    <tr>\n",
              "      <th>0</th>\n",
              "      <td>12572356.txt</td>\n",
              "      <td>&lt; &lt; &lt; &lt;  Evading growth suppressors--By deregu...</td>\n",
              "      <td>The effects of tea polyphenols and tea pigment...</td>\n",
              "      <td></td>\n",
              "      <td>12572356.txt</td>\n",
              "      <td>&lt; &lt; &lt; &lt;  Evading growth suppressors--By deregu...</td>\n",
              "      <td>The effects of tea polyphenols and tea pigment...</td>\n",
              "      <td>HepG2 cells were incubated with 50 and 100 mg/...</td>\n",
              "    </tr>\n",
              "    <tr>\n",
              "      <th>0</th>\n",
              "      <td>12572356.txt</td>\n",
              "      <td>&lt; &lt; &lt; &lt;  Evading growth suppressors--By deregu...</td>\n",
              "      <td>The effects of tea polyphenols and tea pigment...</td>\n",
              "      <td></td>\n",
              "      <td>12572356.txt</td>\n",
              "      <td>&lt; &lt; &lt; &lt;  Evading growth suppressors--By deregu...</td>\n",
              "      <td>The effects of tea polyphenols and tea pigment...</td>\n",
              "      <td>Flow cytometry , Western blot and RT-PCR analy...</td>\n",
              "    </tr>\n",
              "  </tbody>\n",
              "</table>\n",
              "</div>"
            ],
            "text/plain": [
              "       filename  ...                                          text_line\n",
              "0  12572356.txt  ...  The effects of tea polyphenols and tea pigment...\n",
              "0  12572356.txt  ...  HepG2 cells were incubated with 50 and 100 mg/...\n",
              "0  12572356.txt  ...  Flow cytometry , Western blot and RT-PCR analy...\n",
              "\n",
              "[3 rows x 8 columns]"
            ]
          },
          "metadata": {
            "tags": []
          },
          "execution_count": 13
        }
      ]
    },
    {
      "cell_type": "code",
      "metadata": {
        "id": "Ge9QiOhF-zwb"
      },
      "source": [
        "new_df.labels_line = new_df.labels_line.str.strip()"
      ],
      "execution_count": 14,
      "outputs": []
    },
    {
      "cell_type": "code",
      "metadata": {
        "colab": {
          "base_uri": "https://localhost:8080/"
        },
        "id": "0X1O7h8P-et3",
        "outputId": "bf00cd04-ff10-44d3-c4e7-373729c5966c"
      },
      "source": [
        "new_df.labels_line.value_counts()"
      ],
      "execution_count": 15,
      "outputs": [
        {
          "output_type": "execute_result",
          "data": {
            "text/plain": [
              "                                                                                                                                                                                                               14862\n",
              "Resisting cell death--Apoptosis                                                                                                                                                                                  339\n",
              "Activating invasion and metastasis--Metastasis                                                                                                                                                                   238\n",
              "Sustaining proliferative signaling--Receptors                                                                                                                                                                    228\n",
              "Activating invasion and metastasis--Invasion                                                                                                                                                                     202\n",
              "                                                                                                                                                                                                               ...  \n",
              "Resisting cell death--Apoptosis ANDSustaining proliferative signaling--Cell cycle ANDEnabling replicative immortality--Senescence                                                                                  1\n",
              "Sustaining proliferative signaling--Cell cycle ANDEvading growth suppressors--By deregulating cell cycle checkpoints--Cell cycle ANDInducing angiogenesis--By deregulating angiogenesis--Angiogenic factors        1\n",
              "Activating invasion and metastasis--Invasion ANDInducing angiogenesis--By deregulating angiogenesis--Angiogenic factors                                                                                            1\n",
              "Sustaining proliferative signaling--Growth factors growth promoting signals-- AND Avoiding immune destruction--Immune response                                                                                     1\n",
              "Tumor promoting inflammation--Inflammation--Oxidative stress ANDResisting cell death-- AND Genomic instability and mutation--Mutation                                                                              1\n",
              "Name: labels_line, Length: 405, dtype: int64"
            ]
          },
          "metadata": {
            "tags": []
          },
          "execution_count": 15
        }
      ]
    },
    {
      "cell_type": "code",
      "metadata": {
        "id": "PHpgMjIuCEMZ"
      },
      "source": [
        "new_df = new_df.reset_index(drop=True).iloc[:, [0,3,7]]"
      ],
      "execution_count": 16,
      "outputs": []
    },
    {
      "cell_type": "code",
      "metadata": {
        "colab": {
          "base_uri": "https://localhost:8080/",
          "height": 406
        },
        "id": "jpLOqB6BCIPA",
        "outputId": "9ab1db85-320d-42ff-adb6-5d744a5afada"
      },
      "source": [
        "new_df"
      ],
      "execution_count": 17,
      "outputs": [
        {
          "output_type": "execute_result",
          "data": {
            "text/html": [
              "<div>\n",
              "<style scoped>\n",
              "    .dataframe tbody tr th:only-of-type {\n",
              "        vertical-align: middle;\n",
              "    }\n",
              "\n",
              "    .dataframe tbody tr th {\n",
              "        vertical-align: top;\n",
              "    }\n",
              "\n",
              "    .dataframe thead th {\n",
              "        text-align: right;\n",
              "    }\n",
              "</style>\n",
              "<table border=\"1\" class=\"dataframe\">\n",
              "  <thead>\n",
              "    <tr style=\"text-align: right;\">\n",
              "      <th></th>\n",
              "      <th>filename</th>\n",
              "      <th>labels_line</th>\n",
              "      <th>text_line</th>\n",
              "    </tr>\n",
              "  </thead>\n",
              "  <tbody>\n",
              "    <tr>\n",
              "      <th>0</th>\n",
              "      <td>12572356.txt</td>\n",
              "      <td></td>\n",
              "      <td>The effects of tea polyphenols and tea pigment...</td>\n",
              "    </tr>\n",
              "    <tr>\n",
              "      <th>1</th>\n",
              "      <td>12572356.txt</td>\n",
              "      <td></td>\n",
              "      <td>HepG2 cells were incubated with 50 and 100 mg/...</td>\n",
              "    </tr>\n",
              "    <tr>\n",
              "      <th>2</th>\n",
              "      <td>12572356.txt</td>\n",
              "      <td></td>\n",
              "      <td>Flow cytometry , Western blot and RT-PCR analy...</td>\n",
              "    </tr>\n",
              "    <tr>\n",
              "      <th>3</th>\n",
              "      <td>12572356.txt</td>\n",
              "      <td></td>\n",
              "      <td>Flow cytometry analysis showed that tea polyph...</td>\n",
              "    </tr>\n",
              "    <tr>\n",
              "      <th>4</th>\n",
              "      <td>12572356.txt</td>\n",
              "      <td>Evading growth suppressors--By deregulating ce...</td>\n",
              "      <td>Western blot analysis showed tea polyphenols a...</td>\n",
              "    </tr>\n",
              "    <tr>\n",
              "      <th>...</th>\n",
              "      <td>...</td>\n",
              "      <td>...</td>\n",
              "      <td>...</td>\n",
              "    </tr>\n",
              "    <tr>\n",
              "      <th>19311</th>\n",
              "      <td>23013101.txt</td>\n",
              "      <td></td>\n",
              "      <td>We found that Bortezomib inhibited the cellula...</td>\n",
              "    </tr>\n",
              "    <tr>\n",
              "      <th>19312</th>\n",
              "      <td>23013101.txt</td>\n",
              "      <td></td>\n",
              "      <td>Bortezomib also prevented the migration of HUV...</td>\n",
              "    </tr>\n",
              "    <tr>\n",
              "      <th>19313</th>\n",
              "      <td>23013101.txt</td>\n",
              "      <td></td>\n",
              "      <td>In addition , bortezomib dose-dependently inhi...</td>\n",
              "    </tr>\n",
              "    <tr>\n",
              "      <th>19314</th>\n",
              "      <td>23013101.txt</td>\n",
              "      <td>Inducing angiogenesis--By deregulating angioge...</td>\n",
              "      <td>In conclusion , bortezomib prevented the angio...</td>\n",
              "    </tr>\n",
              "    <tr>\n",
              "      <th>19315</th>\n",
              "      <td>23013101.txt</td>\n",
              "      <td>Inducing angiogenesis--By deregulating angioge...</td>\n",
              "      <td></td>\n",
              "    </tr>\n",
              "  </tbody>\n",
              "</table>\n",
              "<p>19316 rows × 3 columns</p>\n",
              "</div>"
            ],
            "text/plain": [
              "           filename  ...                                          text_line\n",
              "0      12572356.txt  ...  The effects of tea polyphenols and tea pigment...\n",
              "1      12572356.txt  ...  HepG2 cells were incubated with 50 and 100 mg/...\n",
              "2      12572356.txt  ...  Flow cytometry , Western blot and RT-PCR analy...\n",
              "3      12572356.txt  ...  Flow cytometry analysis showed that tea polyph...\n",
              "4      12572356.txt  ...  Western blot analysis showed tea polyphenols a...\n",
              "...             ...  ...                                                ...\n",
              "19311  23013101.txt  ...  We found that Bortezomib inhibited the cellula...\n",
              "19312  23013101.txt  ...  Bortezomib also prevented the migration of HUV...\n",
              "19313  23013101.txt  ...  In addition , bortezomib dose-dependently inhi...\n",
              "19314  23013101.txt  ...  In conclusion , bortezomib prevented the angio...\n",
              "19315  23013101.txt  ...                                                   \n",
              "\n",
              "[19316 rows x 3 columns]"
            ]
          },
          "metadata": {
            "tags": []
          },
          "execution_count": 17
        }
      ]
    },
    {
      "cell_type": "code",
      "metadata": {
        "id": "MQDoH-qzBeum"
      },
      "source": [
        "# USE THIS FINAL :) \n",
        "df_c = new_df.assign(labels_line_AND=new_df['labels_line'].str.split('AND')).explode('labels_line_AND')\n",
        "df_c = df_c[['filename','text_line','labels_line_AND']]"
      ],
      "execution_count": 18,
      "outputs": []
    },
    {
      "cell_type": "code",
      "metadata": {
        "colab": {
          "base_uri": "https://localhost:8080/",
          "height": 467
        },
        "id": "n1UMQqHDDfJ7",
        "outputId": "cdf82a4a-0ee5-4ed6-836c-d1d841ac4801"
      },
      "source": [
        "df_c[df_c.filename == '22968518.txt']"
      ],
      "execution_count": 19,
      "outputs": [
        {
          "output_type": "execute_result",
          "data": {
            "text/html": [
              "<div>\n",
              "<style scoped>\n",
              "    .dataframe tbody tr th:only-of-type {\n",
              "        vertical-align: middle;\n",
              "    }\n",
              "\n",
              "    .dataframe tbody tr th {\n",
              "        vertical-align: top;\n",
              "    }\n",
              "\n",
              "    .dataframe thead th {\n",
              "        text-align: right;\n",
              "    }\n",
              "</style>\n",
              "<table border=\"1\" class=\"dataframe\">\n",
              "  <thead>\n",
              "    <tr style=\"text-align: right;\">\n",
              "      <th></th>\n",
              "      <th>filename</th>\n",
              "      <th>text_line</th>\n",
              "      <th>labels_line_AND</th>\n",
              "    </tr>\n",
              "  </thead>\n",
              "  <tbody>\n",
              "    <tr>\n",
              "      <th>2027</th>\n",
              "      <td>22968518.txt</td>\n",
              "      <td>OBJECTIVE To investigate the relationship betw...</td>\n",
              "      <td></td>\n",
              "    </tr>\n",
              "    <tr>\n",
              "      <th>2028</th>\n",
              "      <td>22968518.txt</td>\n",
              "      <td>METHODS Eighty cases of invasive cervical squa...</td>\n",
              "      <td></td>\n",
              "    </tr>\n",
              "    <tr>\n",
              "      <th>2029</th>\n",
              "      <td>22968518.txt</td>\n",
              "      <td>Double immunohistochemical staining with antib...</td>\n",
              "      <td></td>\n",
              "    </tr>\n",
              "    <tr>\n",
              "      <th>2030</th>\n",
              "      <td>22968518.txt</td>\n",
              "      <td>The peritumoral lymphatic vessel density and i...</td>\n",
              "      <td></td>\n",
              "    </tr>\n",
              "    <tr>\n",
              "      <th>2031</th>\n",
              "      <td>22968518.txt</td>\n",
              "      <td>The lymphatic vessels proliferation index was ...</td>\n",
              "      <td></td>\n",
              "    </tr>\n",
              "    <tr>\n",
              "      <th>2032</th>\n",
              "      <td>22968518.txt</td>\n",
              "      <td>Then the correlation between lymphangiogenesis...</td>\n",
              "      <td></td>\n",
              "    </tr>\n",
              "    <tr>\n",
              "      <th>2033</th>\n",
              "      <td>22968518.txt</td>\n",
              "      <td>RESULTS The LVD of cervical cancer ( 15.23 � 3...</td>\n",
              "      <td></td>\n",
              "    </tr>\n",
              "    <tr>\n",
              "      <th>2034</th>\n",
              "      <td>22968518.txt</td>\n",
              "      <td>The peritumoral lymphatic vessel density of ce...</td>\n",
              "      <td></td>\n",
              "    </tr>\n",
              "    <tr>\n",
              "      <th>2035</th>\n",
              "      <td>22968518.txt</td>\n",
              "      <td>Lymphatic PI ( LPI ) of cervical cancer ( 0.25...</td>\n",
              "      <td>Inducing angiogenesis--By deregulating angioge...</td>\n",
              "    </tr>\n",
              "    <tr>\n",
              "      <th>2036</th>\n",
              "      <td>22968518.txt</td>\n",
              "      <td>The peritumoral lymphatic vessel PI of cervica...</td>\n",
              "      <td></td>\n",
              "    </tr>\n",
              "    <tr>\n",
              "      <th>2037</th>\n",
              "      <td>22968518.txt</td>\n",
              "      <td>Peritumoral lymphatic vessel density and perit...</td>\n",
              "      <td>Inducing angiogenesis--By deregulating angioge...</td>\n",
              "    </tr>\n",
              "    <tr>\n",
              "      <th>2038</th>\n",
              "      <td>22968518.txt</td>\n",
              "      <td>CONCLUSIONS The high density of peritumoral ly...</td>\n",
              "      <td>Inducing angiogenesis--By deregulating angioge...</td>\n",
              "    </tr>\n",
              "    <tr>\n",
              "      <th>2038</th>\n",
              "      <td>22968518.txt</td>\n",
              "      <td>CONCLUSIONS The high density of peritumoral ly...</td>\n",
              "      <td>Activating invasion and metastasis--</td>\n",
              "    </tr>\n",
              "    <tr>\n",
              "      <th>2039</th>\n",
              "      <td>22968518.txt</td>\n",
              "      <td></td>\n",
              "      <td></td>\n",
              "    </tr>\n",
              "  </tbody>\n",
              "</table>\n",
              "</div>"
            ],
            "text/plain": [
              "          filename  ...                                    labels_line_AND\n",
              "2027  22968518.txt  ...                                                   \n",
              "2028  22968518.txt  ...                                                   \n",
              "2029  22968518.txt  ...                                                   \n",
              "2030  22968518.txt  ...                                                   \n",
              "2031  22968518.txt  ...                                                   \n",
              "2032  22968518.txt  ...                                                   \n",
              "2033  22968518.txt  ...                                                   \n",
              "2034  22968518.txt  ...                                                   \n",
              "2035  22968518.txt  ...  Inducing angiogenesis--By deregulating angioge...\n",
              "2036  22968518.txt  ...                                                   \n",
              "2037  22968518.txt  ...  Inducing angiogenesis--By deregulating angioge...\n",
              "2038  22968518.txt  ...  Inducing angiogenesis--By deregulating angioge...\n",
              "2038  22968518.txt  ...               Activating invasion and metastasis--\n",
              "2039  22968518.txt  ...                                                   \n",
              "\n",
              "[14 rows x 3 columns]"
            ]
          },
          "metadata": {
            "tags": []
          },
          "execution_count": 19
        }
      ]
    },
    {
      "cell_type": "code",
      "metadata": {
        "id": "o8kNUr9FDy-o"
      },
      "source": [
        "df_c.labels_line_AND = df_c.labels_line_AND.str.strip()"
      ],
      "execution_count": 20,
      "outputs": []
    },
    {
      "cell_type": "code",
      "metadata": {
        "colab": {
          "base_uri": "https://localhost:8080/"
        },
        "id": "Q0LSRGv4DoUT",
        "outputId": "4afa40bc-6b07-42b5-ec91-0d44f8e88b86"
      },
      "source": [
        "df_c.labels_line_AND.value_counts()"
      ],
      "execution_count": 21,
      "outputs": [
        {
          "output_type": "execute_result",
          "data": {
            "text/plain": [
              "                                                                                                     14862\n",
              "Resisting cell death--Apoptosis                                                                        612\n",
              "Sustaining proliferative signaling--Receptors                                                          345\n",
              "Sustaining proliferative signaling--Cell cycle                                                         320\n",
              "Activating invasion and metastasis--Metastasis                                                         317\n",
              "Activating invasion and metastasis--Invasion                                                           282\n",
              "Tumor promoting inflammation--Inflammation--Oxidative stress                                           241\n",
              "Evading growth suppressors--By deregulating cell cycle checkpoints--Cell cycle                         238\n",
              "Genomic instability and mutation--Mutation                                                             215\n",
              "Tumor promoting inflammation--Inflammation--                                                           214\n",
              "Genomic instability and mutation--DNA repair mechanisms                                                213\n",
              "Cellular energetics--Glycolysis/Warburg effect                                                         208\n",
              "Sustaining proliferative signaling--Growth factors growth promoting signals--                          187\n",
              "Enabling replicative immortality--Senescence                                                           185\n",
              "Inducing angiogenesis--By deregulating angiogenesis                                                    179\n",
              "Inducing angiogenesis--By deregulating angiogenesis--Angiogenic factors                                171\n",
              "Resisting cell death--Autophagy                                                                        157\n",
              "Genomic instability and mutation--DNA damage--                                                         157\n",
              "Avoiding immune destruction--Immune response                                                           152\n",
              "Sustaining proliferative signaling--Growth factors growth promoting signals--Downstream signaling      138\n",
              "Genomic instability and mutation--DNA damage--Strand breaks                                            121\n",
              "Evading growth suppressors--By evading contact inhibition                                              118\n",
              "Enabling replicative immortality--Immortalization                                                      111\n",
              "Resisting cell death--Necrosis                                                                         108\n",
              "Genomic instability and mutation--DNA damage--Adducts                                                   97\n",
              "Sustaining proliferative signaling--                                                                    89\n",
              "Tumor promoting inflammation--Immune response                                                           78\n",
              "Activating invasion and metastasis--                                                                    73\n",
              "Avoiding immune destruction--Immunosuppression                                                          70\n",
              "Genomic instability and mutation--                                                                      38\n",
              "Resisting cell death--                                                                                  19\n",
              "Cellular energetics--                                                                                   18\n",
              "Evading growth suppressors--By deregulating cell cycle checkpoints--                                    16\n",
              "NULL                                                                                                    11\n",
              "Inducing angiogenesis--                                                                                  8\n",
              "Tumor promoting inflammation--                                                                           6\n",
              "Enabling replicative immortality--                                                                       5\n",
              "Avoiding immune destruction--                                                                            4\n",
              "Name: labels_line_AND, dtype: int64"
            ]
          },
          "metadata": {
            "tags": []
          },
          "execution_count": 21
        }
      ]
    },
    {
      "cell_type": "code",
      "metadata": {
        "colab": {
          "base_uri": "https://localhost:8080/"
        },
        "id": "wyDUcoDDD42C",
        "outputId": "435b58ad-230b-4fbf-92d2-f0241d2c11fe"
      },
      "source": [
        "len(df_c.labels_line_AND.value_counts())"
      ],
      "execution_count": 22,
      "outputs": [
        {
          "output_type": "execute_result",
          "data": {
            "text/plain": [
              "38"
            ]
          },
          "metadata": {
            "tags": []
          },
          "execution_count": 22
        }
      ]
    },
    {
      "cell_type": "code",
      "metadata": {
        "colab": {
          "base_uri": "https://localhost:8080/",
          "height": 197
        },
        "id": "6RU9da2lzFs9",
        "outputId": "8bd42a56-a782-4348-a634-7518bc9cfb59"
      },
      "source": [
        "## Format to classification input\n",
        "df_HOC = df_c[['text_line','labels_line_AND']].copy()\n",
        "df_HOC.columns = ['text','label']\n",
        "df_HOC['label_bool'] = df_HOC['label'].apply(lambda x: 0 if x == '' else 1)\n",
        "df_HOC.head()"
      ],
      "execution_count": 23,
      "outputs": [
        {
          "output_type": "execute_result",
          "data": {
            "text/html": [
              "<div>\n",
              "<style scoped>\n",
              "    .dataframe tbody tr th:only-of-type {\n",
              "        vertical-align: middle;\n",
              "    }\n",
              "\n",
              "    .dataframe tbody tr th {\n",
              "        vertical-align: top;\n",
              "    }\n",
              "\n",
              "    .dataframe thead th {\n",
              "        text-align: right;\n",
              "    }\n",
              "</style>\n",
              "<table border=\"1\" class=\"dataframe\">\n",
              "  <thead>\n",
              "    <tr style=\"text-align: right;\">\n",
              "      <th></th>\n",
              "      <th>text</th>\n",
              "      <th>label</th>\n",
              "      <th>label_bool</th>\n",
              "    </tr>\n",
              "  </thead>\n",
              "  <tbody>\n",
              "    <tr>\n",
              "      <th>0</th>\n",
              "      <td>The effects of tea polyphenols and tea pigment...</td>\n",
              "      <td></td>\n",
              "      <td>0</td>\n",
              "    </tr>\n",
              "    <tr>\n",
              "      <th>1</th>\n",
              "      <td>HepG2 cells were incubated with 50 and 100 mg/...</td>\n",
              "      <td></td>\n",
              "      <td>0</td>\n",
              "    </tr>\n",
              "    <tr>\n",
              "      <th>2</th>\n",
              "      <td>Flow cytometry , Western blot and RT-PCR analy...</td>\n",
              "      <td></td>\n",
              "      <td>0</td>\n",
              "    </tr>\n",
              "    <tr>\n",
              "      <th>3</th>\n",
              "      <td>Flow cytometry analysis showed that tea polyph...</td>\n",
              "      <td></td>\n",
              "      <td>0</td>\n",
              "    </tr>\n",
              "    <tr>\n",
              "      <th>4</th>\n",
              "      <td>Western blot analysis showed tea polyphenols a...</td>\n",
              "      <td>Evading growth suppressors--By deregulating ce...</td>\n",
              "      <td>1</td>\n",
              "    </tr>\n",
              "  </tbody>\n",
              "</table>\n",
              "</div>"
            ],
            "text/plain": [
              "                                                text  ... label_bool\n",
              "0  The effects of tea polyphenols and tea pigment...  ...          0\n",
              "1  HepG2 cells were incubated with 50 and 100 mg/...  ...          0\n",
              "2  Flow cytometry , Western blot and RT-PCR analy...  ...          0\n",
              "3  Flow cytometry analysis showed that tea polyph...  ...          0\n",
              "4  Western blot analysis showed tea polyphenols a...  ...          1\n",
              "\n",
              "[5 rows x 3 columns]"
            ]
          },
          "metadata": {
            "tags": []
          },
          "execution_count": 23
        }
      ]
    },
    {
      "cell_type": "code",
      "metadata": {
        "colab": {
          "base_uri": "https://localhost:8080/"
        },
        "id": "cpAU8w9uJYDJ",
        "outputId": "dae6739a-770a-42a7-f4a5-142a9f1c8e7a"
      },
      "source": [
        "df_HOC_train = df_HOC.sample(frac = 0.7,random_state=SEED_NUMBER)\n",
        "df_HOC_test = df_HOC.drop(df_HOC_train.index)\n",
        "\n",
        "df_HOC_train = df_HOC_train.reset_index(drop=True)\n",
        "df_HOC_test = df_HOC_test.reset_index(drop=True)\n",
        "\n",
        "print('df_HOC:',df_HOC.shape)\n",
        "print('df_HOC_train:',df_HOC_train.shape)\n",
        "print('df_HOC_valid:',df_HOC_test.shape)"
      ],
      "execution_count": 24,
      "outputs": [
        {
          "output_type": "stream",
          "text": [
            "df_HOC: (20383, 3)\n",
            "df_HOC_train: (14268, 3)\n",
            "df_HOC_valid: (5642, 3)\n"
          ],
          "name": "stdout"
        }
      ]
    },
    {
      "cell_type": "markdown",
      "metadata": {
        "id": "1mgQas5V50YZ"
      },
      "source": [
        "### Dataset : Semistructure assignment"
      ]
    },
    {
      "cell_type": "code",
      "metadata": {
        "id": "GfKQZV2N5zii"
      },
      "source": [
        "df_train = pd.read_csv(DATA_PATH+'/semi_assignment/axcs_train_cleaned.csv')\n",
        "df_valid = pd.read_csv(DATA_PATH+'/semi_assignment/axcs_valid_cleaned.csv')\n",
        "df_test = pd.read_csv(DATA_PATH+'/semi_assignment/axcs_test_cleaned.csv')"
      ],
      "execution_count": 54,
      "outputs": []
    },
    {
      "cell_type": "code",
      "metadata": {
        "colab": {
          "base_uri": "https://localhost:8080/",
          "height": 197
        },
        "id": "4gEqHGla_SE5",
        "outputId": "c8cd600e-27f3-42b7-902e-c188e75b352b"
      },
      "source": [
        "df_semi_train = pd.concat([df_train,df_valid],axis=0)[['Abstract','InfoTheory','CompVis','Math']]\n",
        "df_semi_train.columns = ['text','label_InfoTheory','label_CompVis','label_Math']\n",
        "df_semi_train.head()"
      ],
      "execution_count": 55,
      "outputs": [
        {
          "output_type": "execute_result",
          "data": {
            "text/html": [
              "<div>\n",
              "<style scoped>\n",
              "    .dataframe tbody tr th:only-of-type {\n",
              "        vertical-align: middle;\n",
              "    }\n",
              "\n",
              "    .dataframe tbody tr th {\n",
              "        vertical-align: top;\n",
              "    }\n",
              "\n",
              "    .dataframe thead th {\n",
              "        text-align: right;\n",
              "    }\n",
              "</style>\n",
              "<table border=\"1\" class=\"dataframe\">\n",
              "  <thead>\n",
              "    <tr style=\"text-align: right;\">\n",
              "      <th></th>\n",
              "      <th>text</th>\n",
              "      <th>label_InfoTheory</th>\n",
              "      <th>label_CompVis</th>\n",
              "      <th>label_Math</th>\n",
              "    </tr>\n",
              "  </thead>\n",
              "  <tbody>\n",
              "    <tr>\n",
              "      <th>0</th>\n",
              "      <td>Decentralized Constraint Satisfaction We show...</td>\n",
              "      <td>0</td>\n",
              "      <td>0</td>\n",
              "      <td>0</td>\n",
              "    </tr>\n",
              "    <tr>\n",
              "      <th>1</th>\n",
              "      <td>Utility Constrained Energy Minimization In Al...</td>\n",
              "      <td>1</td>\n",
              "      <td>0</td>\n",
              "      <td>1</td>\n",
              "    </tr>\n",
              "    <tr>\n",
              "      <th>2</th>\n",
              "      <td>Deterministic modal Bayesian Logic: derive th...</td>\n",
              "      <td>0</td>\n",
              "      <td>0</td>\n",
              "      <td>1</td>\n",
              "    </tr>\n",
              "    <tr>\n",
              "      <th>3</th>\n",
              "      <td>Regret Bounds for Reinforcement Learning with...</td>\n",
              "      <td>0</td>\n",
              "      <td>0</td>\n",
              "      <td>0</td>\n",
              "    </tr>\n",
              "    <tr>\n",
              "      <th>4</th>\n",
              "      <td>Theoretical Limits on Time Delay Estimation f...</td>\n",
              "      <td>1</td>\n",
              "      <td>0</td>\n",
              "      <td>1</td>\n",
              "    </tr>\n",
              "  </tbody>\n",
              "</table>\n",
              "</div>"
            ],
            "text/plain": [
              "                                                text  ...  label_Math\n",
              "0   Decentralized Constraint Satisfaction We show...  ...           0\n",
              "1   Utility Constrained Energy Minimization In Al...  ...           1\n",
              "2   Deterministic modal Bayesian Logic: derive th...  ...           1\n",
              "3   Regret Bounds for Reinforcement Learning with...  ...           0\n",
              "4   Theoretical Limits on Time Delay Estimation f...  ...           1\n",
              "\n",
              "[5 rows x 4 columns]"
            ]
          },
          "metadata": {
            "tags": []
          },
          "execution_count": 55
        }
      ]
    },
    {
      "cell_type": "code",
      "metadata": {
        "colab": {
          "base_uri": "https://localhost:8080/",
          "height": 197
        },
        "id": "kZn7kK1V_9rr",
        "outputId": "09bc303b-f786-4d0d-cdc0-a29c3429b64e"
      },
      "source": [
        "df_semi_test = df_test[['Abstract','InfoTheory','CompVis','Math']]\n",
        "df_semi_test.columns = ['text','label_InfoTheory','label_CompVis','label_Math']\n",
        "df_semi_test.head()"
      ],
      "execution_count": 56,
      "outputs": [
        {
          "output_type": "execute_result",
          "data": {
            "text/html": [
              "<div>\n",
              "<style scoped>\n",
              "    .dataframe tbody tr th:only-of-type {\n",
              "        vertical-align: middle;\n",
              "    }\n",
              "\n",
              "    .dataframe tbody tr th {\n",
              "        vertical-align: top;\n",
              "    }\n",
              "\n",
              "    .dataframe thead th {\n",
              "        text-align: right;\n",
              "    }\n",
              "</style>\n",
              "<table border=\"1\" class=\"dataframe\">\n",
              "  <thead>\n",
              "    <tr style=\"text-align: right;\">\n",
              "      <th></th>\n",
              "      <th>text</th>\n",
              "      <th>label_InfoTheory</th>\n",
              "      <th>label_CompVis</th>\n",
              "      <th>label_Math</th>\n",
              "    </tr>\n",
              "  </thead>\n",
              "  <tbody>\n",
              "    <tr>\n",
              "      <th>0</th>\n",
              "      <td>A Data Transparency Framework for Mobile Appl...</td>\n",
              "      <td>0.0</td>\n",
              "      <td>0.0</td>\n",
              "      <td>0.0</td>\n",
              "    </tr>\n",
              "    <tr>\n",
              "      <th>1</th>\n",
              "      <td>A reclaimer scheduling problem arising in coa...</td>\n",
              "      <td>0.0</td>\n",
              "      <td>0.0</td>\n",
              "      <td>0.0</td>\n",
              "    </tr>\n",
              "    <tr>\n",
              "      <th>2</th>\n",
              "      <td>Communication-Efficient Distributed Optimizat...</td>\n",
              "      <td>0.0</td>\n",
              "      <td>0.0</td>\n",
              "      <td>1.0</td>\n",
              "    </tr>\n",
              "    <tr>\n",
              "      <th>3</th>\n",
              "      <td>Consistent Classification Algorithms for Mult...</td>\n",
              "      <td>0.0</td>\n",
              "      <td>0.0</td>\n",
              "      <td>0.0</td>\n",
              "    </tr>\n",
              "    <tr>\n",
              "      <th>4</th>\n",
              "      <td>Managing key multicasting through orthogonal ...</td>\n",
              "      <td>0.0</td>\n",
              "      <td>0.0</td>\n",
              "      <td>0.0</td>\n",
              "    </tr>\n",
              "  </tbody>\n",
              "</table>\n",
              "</div>"
            ],
            "text/plain": [
              "                                                text  ...  label_Math\n",
              "0   A Data Transparency Framework for Mobile Appl...  ...         0.0\n",
              "1   A reclaimer scheduling problem arising in coa...  ...         0.0\n",
              "2   Communication-Efficient Distributed Optimizat...  ...         1.0\n",
              "3   Consistent Classification Algorithms for Mult...  ...         0.0\n",
              "4   Managing key multicasting through orthogonal ...  ...         0.0\n",
              "\n",
              "[5 rows x 4 columns]"
            ]
          },
          "metadata": {
            "tags": []
          },
          "execution_count": 56
        }
      ]
    },
    {
      "cell_type": "markdown",
      "metadata": {
        "id": "RvG2zw2Qhzn2"
      },
      "source": [
        "\n",
        "\n",
        "---\n",
        "\n",
        "##BERT Text Representation\n",
        "\n",
        "Transform Language Model\n",
        "\n",
        "When using BERT, technically we are transforming our sentence into a vector that represent each sentence. The process is call Language Model a representation of each word. \n",
        "\n",
        "BERT add [CLS] token infront of each sentence. This token representation vector could later be use for Classification as it contain the sentence representation."
      ]
    },
    {
      "cell_type": "markdown",
      "metadata": {
        "id": "VCg6mhF8hzn2"
      },
      "source": [
        "### Class my_BERT"
      ]
    },
    {
      "cell_type": "code",
      "metadata": {
        "colab": {
          "base_uri": "https://localhost:8080/"
        },
        "id": "hmAwnsOFXd8K",
        "outputId": "26c96616-3e32-49ef-a364-2e393414e2ae"
      },
      "source": [
        "class my_BERT:\n",
        "    ###### Load pretrain BERT Language Model transformer (Otherwise use 'set' to customize)\n",
        "    # # For DistilBERT:\n",
        "    # # model_class, tokenizer_class, pretrained_weights = (ppb.DistilBertModel, ppb.DistilBertTokenizer, 'distilbert-base-uncased')\n",
        "\n",
        "    ## Want BERT instead of distilBERT? Uncomment the following line:\n",
        "    model_class, tokenizer_class, pretrained_weights = (ppb.BertModel, ppb.BertTokenizer, 'bert-base-uncased')\n",
        "\n",
        "    # Load pretrained model/tokenizer\n",
        "    bert_tokenizer = tokenizer_class.from_pretrained(pretrained_weights)\n",
        "    bert_model = model_class.from_pretrained(pretrained_weights)\n",
        "\n",
        "    def __init__(self, df_input, ENABLE_LOGS = 1):\n",
        "        ## INPUT STRUCTURE (COLUMNS): \n",
        "        ## - 'text' - Required\n",
        "        ## - 'label' - Optional default name is 'label' otherwise need to specific when called\n",
        "\n",
        "        self.df = df_input\n",
        "        self.df_BERT = None\n",
        "        self.ENABLE_LOGS = ENABLE_LOGS\n",
        "    \n",
        "    def print_log(self, *arg, log_type=\"Info\"):\n",
        "        if(self.ENABLE_LOGS==1 or log_type!=\"Info\"): \n",
        "            print(\"[\"+log_type+\"]\",\" \".join(arg))\n",
        "\n",
        "    def bert_tokenize(self, token_length=128):\n",
        "        # return \"Hellow\"\n",
        "        df_output = self.df.copy()\n",
        "\n",
        "        # BERT Tokenizer + truncate to BERT_MAX_LENGTH\n",
        "        df_output['BERTTokens'] = df_output[\"text\"].apply((lambda x: self.bert_tokenizer.encode(x, add_special_tokens=True,truncation=True,max_length = token_length)))\n",
        "        # df_output['n_tokens0'] = df_output['BERTTokens'].apply(lambda x: len(x)) # Just for verification\n",
        "        self.print_log(\"Token - Done\")\n",
        "\n",
        "        # Padding tokens to BERT_MAX_LENGTH\n",
        "        df_output['BERTTokens'] = df_output['BERTTokens'].apply(lambda x: x + [0]*(token_length-len(x)))\n",
        "        # df_output['n_tokens'] = df_output['BERTTokens'].apply(lambda x: len(x)) # Just for verification\n",
        "        self.print_log(\"Pad - Done\")\n",
        "\n",
        "        # BERT Mask\n",
        "        df_output['BERTMasks'] = df_output['BERTTokens'].apply(lambda x: [np.where(i != 0, 1, 0) for i in x])\n",
        "        # df_output['n_mask1'] = df_output['BERTMask'].apply(lambda x: sum(x)) # Just for verification\n",
        "        self.print_log(\"Mask - Done\")\n",
        "\n",
        "        return df_output\n",
        "\n",
        "    def run_bert_transform(self, dataloader, device_available = torch.device(\"cpu\")):\n",
        "        all_result = []\n",
        "\n",
        "        self.bert_model.to(device_available)\n",
        "\n",
        "        for step, batch in enumerate(dataloader):\n",
        "            self.print_log(\"Step:\",str(step),\"/\",str(len(batch)))\n",
        "\n",
        "            b_input_ids = batch[0].to(device_available)\n",
        "            b_input_mask = batch[1].to(device_available)\n",
        "\n",
        "            with torch.no_grad():\n",
        "                last_hidden_states = self.bert_model(b_input_ids, attention_mask=b_input_mask)\n",
        "        \n",
        "            res_features = last_hidden_states[0][:,0,:].cpu().numpy()\n",
        "            all_result.append(res_features)\n",
        "        self.print_log(\"BERT transform - Done\")\n",
        "\n",
        "        return np.vstack(all_result)\n",
        "\n",
        "\n",
        "    def bert_transform(self, device_available = torch.device(\"cpu\"), batch_size = 32, token_length=128):\n",
        "        df_output = self.bert_tokenize(token_length)\n",
        "\n",
        "        # Convert to Tensor\n",
        "        input_tokens = torch.tensor(np.stack(df_output['BERTTokens'].values))\n",
        "        input_masks = torch.tensor(np.stack(df_output['BERTMasks'].values))\n",
        "        # print(input_tokens,input_masks)\n",
        "\n",
        "        # Create the DataLoader for our training set.\n",
        "        input_data = TensorDataset(input_tokens, input_masks)\n",
        "        input_sampler = SequentialSampler(input_data)\n",
        "        input_dataloader = DataLoader(input_data, sampler=input_sampler, batch_size=batch_size)\n",
        "\n",
        "        self.print_log(\"Running BERT Transform on\", str(device_available))\n",
        "        if(str(device_available) == 'cpu'):\n",
        "            self.print_log(\"Running BERT on CPU can take longer time...\",log_type=\"WARNING\")\n",
        "        self.print_log(\"Data size:\",str(len(input_tokens)), \"( Total batch\", str(len(input_dataloader)),'* size',str(batch_size),\")\")\n",
        "        \n",
        "        output_features = self.run_bert_transform(input_dataloader,device_available)\n",
        "        # print(output_features)\n",
        "        # print(pd.Series(output_features.tolist()))\n",
        "        df_output['BERT_Features'] = pd.Series(output_features.tolist())\n",
        "        \n",
        "        self.print_log(\"BERT transformed\", log_type=\"Success\")\n",
        "        self.df_BERT = df_output\n",
        "\n",
        "    def get_features(self):\n",
        "        if(isinstance(self.df_BERT, pd.DataFrame)):\n",
        "            return np.array([np.array(xi) for xi in self.df_BERT.BERT_Features.values])\n",
        "        else:\n",
        "            print_log(\"Please run function 'bert_transform' to generate text representation first!\",log_type=\"Error\")\n",
        "\n",
        "    def get_labels(self,col_target = 'label'):\n",
        "        return np.array(self.df_BERT[col_target].tolist())\n",
        "\n",
        "    def set_bert_tokenizer(self,tokenizer):\n",
        "        self.bert_tokenizer = tokenizer\n",
        "\n",
        "    def set_bert_model(self,model):\n",
        "        self.bert_model = model\n"
      ],
      "execution_count": 44,
      "outputs": [
        {
          "output_type": "stream",
          "text": [
            "Some weights of the model checkpoint at bert-base-uncased were not used when initializing BertModel: ['cls.predictions.bias', 'cls.predictions.transform.dense.bias', 'cls.predictions.transform.dense.weight', 'cls.seq_relationship.bias', 'cls.seq_relationship.weight', 'cls.predictions.transform.LayerNorm.weight', 'cls.predictions.decoder.weight', 'cls.predictions.transform.LayerNorm.bias']\n",
            "- This IS expected if you are initializing BertModel from the checkpoint of a model trained on another task or with another architecture (e.g. initializing a BertForSequenceClassification model from a BertForPreTraining model).\n",
            "- This IS NOT expected if you are initializing BertModel from the checkpoint of a model that you expect to be exactly identical (initializing a BertForSequenceClassification model from a BertForSequenceClassification model).\n"
          ],
          "name": "stderr"
        }
      ]
    },
    {
      "cell_type": "markdown",
      "metadata": {
        "id": "dq1_C_VjwqEl"
      },
      "source": [
        "### Transform Data to Text Representation"
      ]
    },
    {
      "cell_type": "markdown",
      "metadata": {
        "id": "RBvJOTuBJwp7"
      },
      "source": [
        "#### HOC"
      ]
    },
    {
      "cell_type": "code",
      "metadata": {
        "colab": {
          "base_uri": "https://localhost:8080/",
          "height": 197
        },
        "id": "jGp_9pRixG3Y",
        "outputId": "7fd5d34b-d555-49ee-ff47-0e0ffc099bac"
      },
      "source": [
        "df_HOC_train.head()"
      ],
      "execution_count": 57,
      "outputs": [
        {
          "output_type": "execute_result",
          "data": {
            "text/html": [
              "<div>\n",
              "<style scoped>\n",
              "    .dataframe tbody tr th:only-of-type {\n",
              "        vertical-align: middle;\n",
              "    }\n",
              "\n",
              "    .dataframe tbody tr th {\n",
              "        vertical-align: top;\n",
              "    }\n",
              "\n",
              "    .dataframe thead th {\n",
              "        text-align: right;\n",
              "    }\n",
              "</style>\n",
              "<table border=\"1\" class=\"dataframe\">\n",
              "  <thead>\n",
              "    <tr style=\"text-align: right;\">\n",
              "      <th></th>\n",
              "      <th>text</th>\n",
              "      <th>label</th>\n",
              "      <th>label_bool</th>\n",
              "    </tr>\n",
              "  </thead>\n",
              "  <tbody>\n",
              "    <tr>\n",
              "      <th>0</th>\n",
              "      <td>A low rate of proliferation was observed , sim...</td>\n",
              "      <td></td>\n",
              "      <td>0</td>\n",
              "    </tr>\n",
              "    <tr>\n",
              "      <th>1</th>\n",
              "      <td>This glycolytic shift , called the Warburg eff...</td>\n",
              "      <td></td>\n",
              "      <td>0</td>\n",
              "    </tr>\n",
              "    <tr>\n",
              "      <th>2</th>\n",
              "      <td>Several studies have indicated that the cell-s...</td>\n",
              "      <td></td>\n",
              "      <td>0</td>\n",
              "    </tr>\n",
              "    <tr>\n",
              "      <th>3</th>\n",
              "      <td>The hypothesis of a selective effect on differ...</td>\n",
              "      <td>Avoiding immune destruction--Immunosuppression</td>\n",
              "      <td>1</td>\n",
              "    </tr>\n",
              "    <tr>\n",
              "      <th>4</th>\n",
              "      <td>The HER-2 gene encodes a cell-surface growth f...</td>\n",
              "      <td></td>\n",
              "      <td>0</td>\n",
              "    </tr>\n",
              "  </tbody>\n",
              "</table>\n",
              "</div>"
            ],
            "text/plain": [
              "                                                text  ... label_bool\n",
              "0  A low rate of proliferation was observed , sim...  ...          0\n",
              "1  This glycolytic shift , called the Warburg eff...  ...          0\n",
              "2  Several studies have indicated that the cell-s...  ...          0\n",
              "3  The hypothesis of a selective effect on differ...  ...          1\n",
              "4  The HER-2 gene encodes a cell-surface growth f...  ...          0\n",
              "\n",
              "[5 rows x 3 columns]"
            ]
          },
          "metadata": {
            "tags": []
          },
          "execution_count": 57
        }
      ]
    },
    {
      "cell_type": "code",
      "metadata": {
        "colab": {
          "base_uri": "https://localhost:8080/"
        },
        "id": "GH8lgh5pXjYK",
        "outputId": "f53498f9-303e-4c02-f15b-981eba46362f"
      },
      "source": [
        "bert_HOC_train = my_BERT(df_HOC_train)\n",
        "bert_HOC_train.bert_transform(DEVICE_AVAILABLE)\n",
        "\n",
        "bert_HOC_test = my_BERT(df_HOC_test)\n",
        "bert_HOC_test.bert_transform(DEVICE_AVAILABLE)\n",
        "\n",
        "# bert_HOC_train.df_BERT.head()\n",
        "# bert_HOC_train.get_features()"
      ],
      "execution_count": 46,
      "outputs": [
        {
          "output_type": "stream",
          "text": [
            "[Info] Token success\n",
            "[Info] Pad success\n",
            "[Info] Mask success\n",
            "[Info] Running BERT Transform on cuda\n",
            "[Info] Data size: 14268 ( Total batch 446 * size 32 )\n",
            "[Info] BERT transform success\n",
            "[Info] Token success\n",
            "[Info] Pad success\n",
            "[Info] Mask success\n",
            "[Info] Running BERT Transform on cuda\n",
            "[Info] Data size: 5642 ( Total batch 177 * size 32 )\n",
            "[Info] BERT transform success\n"
          ],
          "name": "stdout"
        }
      ]
    },
    {
      "cell_type": "markdown",
      "metadata": {
        "id": "V1maZLAhI7a_"
      },
      "source": [
        "#### Semi"
      ]
    },
    {
      "cell_type": "code",
      "metadata": {
        "colab": {
          "base_uri": "https://localhost:8080/",
          "height": 197
        },
        "id": "eSzR8-x2AQew",
        "outputId": "e5af41f6-34f8-419d-924f-bfde116f3737"
      },
      "source": [
        "df_semi_train.head()"
      ],
      "execution_count": 59,
      "outputs": [
        {
          "output_type": "execute_result",
          "data": {
            "text/html": [
              "<div>\n",
              "<style scoped>\n",
              "    .dataframe tbody tr th:only-of-type {\n",
              "        vertical-align: middle;\n",
              "    }\n",
              "\n",
              "    .dataframe tbody tr th {\n",
              "        vertical-align: top;\n",
              "    }\n",
              "\n",
              "    .dataframe thead th {\n",
              "        text-align: right;\n",
              "    }\n",
              "</style>\n",
              "<table border=\"1\" class=\"dataframe\">\n",
              "  <thead>\n",
              "    <tr style=\"text-align: right;\">\n",
              "      <th></th>\n",
              "      <th>text</th>\n",
              "      <th>label_InfoTheory</th>\n",
              "      <th>label_CompVis</th>\n",
              "      <th>label_Math</th>\n",
              "    </tr>\n",
              "  </thead>\n",
              "  <tbody>\n",
              "    <tr>\n",
              "      <th>0</th>\n",
              "      <td>Decentralized Constraint Satisfaction We show...</td>\n",
              "      <td>0</td>\n",
              "      <td>0</td>\n",
              "      <td>0</td>\n",
              "    </tr>\n",
              "    <tr>\n",
              "      <th>1</th>\n",
              "      <td>Utility Constrained Energy Minimization In Al...</td>\n",
              "      <td>1</td>\n",
              "      <td>0</td>\n",
              "      <td>1</td>\n",
              "    </tr>\n",
              "    <tr>\n",
              "      <th>2</th>\n",
              "      <td>Deterministic modal Bayesian Logic: derive th...</td>\n",
              "      <td>0</td>\n",
              "      <td>0</td>\n",
              "      <td>1</td>\n",
              "    </tr>\n",
              "    <tr>\n",
              "      <th>3</th>\n",
              "      <td>Regret Bounds for Reinforcement Learning with...</td>\n",
              "      <td>0</td>\n",
              "      <td>0</td>\n",
              "      <td>0</td>\n",
              "    </tr>\n",
              "    <tr>\n",
              "      <th>4</th>\n",
              "      <td>Theoretical Limits on Time Delay Estimation f...</td>\n",
              "      <td>1</td>\n",
              "      <td>0</td>\n",
              "      <td>1</td>\n",
              "    </tr>\n",
              "  </tbody>\n",
              "</table>\n",
              "</div>"
            ],
            "text/plain": [
              "                                                text  ...  label_Math\n",
              "0   Decentralized Constraint Satisfaction We show...  ...           0\n",
              "1   Utility Constrained Energy Minimization In Al...  ...           1\n",
              "2   Deterministic modal Bayesian Logic: derive th...  ...           1\n",
              "3   Regret Bounds for Reinforcement Learning with...  ...           0\n",
              "4   Theoretical Limits on Time Delay Estimation f...  ...           1\n",
              "\n",
              "[5 rows x 4 columns]"
            ]
          },
          "metadata": {
            "tags": []
          },
          "execution_count": 59
        }
      ]
    },
    {
      "cell_type": "code",
      "metadata": {
        "colab": {
          "base_uri": "https://localhost:8080/"
        },
        "id": "AeB-IolqxNGN",
        "outputId": "dfdaa512-e927-4b81-983d-ec7281b163fd"
      },
      "source": [
        "bert_semi_train = my_BERT(df_semi_train)\n",
        "bert_semi_train.bert_transform(DEVICE_AVAILABLE)"
      ],
      "execution_count": 58,
      "outputs": [
        {
          "output_type": "stream",
          "text": [
            "[Info] Token success\n",
            "[Info] Pad success\n",
            "[Info] Mask success\n",
            "[Info] Running BERT Transform on cuda\n",
            "[Info] Data size: 54731 ( Total batch 1711 * size 32 )\n",
            "[Info] BERT transform success\n"
          ],
          "name": "stdout"
        }
      ]
    },
    {
      "cell_type": "code",
      "metadata": {
        "colab": {
          "base_uri": "https://localhost:8080/"
        },
        "id": "Sk5WHrR8xTvF",
        "outputId": "f5c12782-769f-4f83-fc0b-39ce5cefcf0d"
      },
      "source": [
        "bert_semi_test = my_BERT(df_semi_test)\n",
        "bert_semi_test.bert_transform(DEVICE_AVAILABLE)"
      ],
      "execution_count": 60,
      "outputs": [
        {
          "output_type": "stream",
          "text": [
            "[Info] Token success\n",
            "[Info] Pad success\n",
            "[Info] Mask success\n",
            "[Info] Running BERT Transform on cuda\n",
            "[Info] Data size: 19678 ( Total batch 615 * size 32 )\n",
            "[Info] BERT transform success\n"
          ],
          "name": "stdout"
        }
      ]
    },
    {
      "cell_type": "markdown",
      "metadata": {
        "id": "rpYooIbJ2QXc"
      },
      "source": [
        "\n",
        "\n",
        "---\n",
        "\n",
        "\n",
        "## Downstream Model"
      ]
    },
    {
      "cell_type": "code",
      "metadata": {
        "id": "mN3toPqdvh4m"
      },
      "source": [
        "df_result = pd.DataFrame()\n",
        "all_models = pd.DataFrame()"
      ],
      "execution_count": 26,
      "outputs": []
    },
    {
      "cell_type": "markdown",
      "metadata": {
        "id": "D4_jtxPGsePp"
      },
      "source": [
        "### Train Model"
      ]
    },
    {
      "cell_type": "code",
      "metadata": {
        "colab": {
          "base_uri": "https://localhost:8080/"
        },
        "id": "RdCKT5JUqatF",
        "outputId": "e9640919-1d6a-485a-dd34-ceb80daaa709"
      },
      "source": [
        "def build_logistic_model_BERT(x_train,y_train,SEED_NUMBER = 19900506):\n",
        "    model = LogisticRegression(random_state=SEED_NUMBER,max_iter=500)\n",
        "    model_name = model.__class__.__name__\n",
        "    model.fit(x_train, y_train)\n",
        "    return model\n",
        "\n",
        "# trainLabels = df_semi_train['label_Math'].tolist() #+ df_valid['Math'].tolist()\n",
        "# m = build_logistic_model_BERT(train_features,np.asarray(trainLabels))\n",
        "# all_models['Logistic_all_lemma_math_BERT'] = [m]"
      ],
      "execution_count": 47,
      "outputs": [
        {
          "output_type": "stream",
          "text": [
            "/usr/local/lib/python3.7/dist-packages/sklearn/linear_model/_logistic.py:940: ConvergenceWarning: lbfgs failed to converge (status=1):\n",
            "STOP: TOTAL NO. of ITERATIONS REACHED LIMIT.\n",
            "\n",
            "Increase the number of iterations (max_iter) or scale the data as shown in:\n",
            "    https://scikit-learn.org/stable/modules/preprocessing.html\n",
            "Please also refer to the documentation for alternative solver options:\n",
            "    https://scikit-learn.org/stable/modules/linear_model.html#logistic-regression\n",
            "  extra_warning_msg=_LOGISTIC_SOLVER_CONVERGENCE_MSG)\n"
          ],
          "name": "stderr"
        }
      ]
    },
    {
      "cell_type": "code",
      "metadata": {
        "id": "DUX_w5ms2YEG"
      },
      "source": [
        "## FOR HOC\n",
        "m = build_logistic_model_BERT(bert_HOC_train.get_features(),bert_HOC_train.get_labels('label_bool'))\n",
        "all_models['Logistic_all_HOC_BERT'] = [m]\n",
        "\n",
        "## For Semi\n",
        "# Train all 3 models of BERT_Statistic \n",
        "var_target = ['label_Math','label_CompVis','label_InfoTheory']\n",
        "\n",
        "for tg in var_target:\n",
        "    # 6 models of all data\n",
        "    m = build_logistic_model_BERT(bert_semi_train.get_features(),bert_semi_train.get_labels(tg))\n",
        "    all_models[\"Logistic_all_\"+tg+\"_BERT\"] = [m]\n",
        "\n",
        "print(all_models.keys())"
      ],
      "execution_count": null,
      "outputs": []
    },
    {
      "cell_type": "markdown",
      "metadata": {
        "id": "5ZbAdliCtcSX"
      },
      "source": [
        "### Test Model"
      ]
    },
    {
      "cell_type": "code",
      "metadata": {
        "colab": {
          "base_uri": "https://localhost:8080/"
        },
        "id": "pAokcSrktYQz",
        "outputId": "88e3b981-47e0-4df0-fffe-32e4e8ac9135"
      },
      "source": [
        "def test_logistic_model_BERT(model,x_test,y_test,dummy = 0):\n",
        "    # Do the prediction\n",
        "    if(dummy==1):\n",
        "        y_predict = [0]*len(x_test)\n",
        "    else:\n",
        "        y_predict=model.predict(x_test)\n",
        "\n",
        "    # print(confusion_matrix(y_test,y_predict))\n",
        "    tn, fp, fn, tp = confusion_matrix(y_test,y_predict).ravel()\n",
        "    print((tn, fp, fn, tp))\n",
        "    recall = recall_score(y_test,y_predict,average='macro')\n",
        "    precision = precision_score(y_test,y_predict,average='macro')\n",
        "    f1score = f1_score(y_test,y_predict,average='macro')\n",
        "    accuracy = accuracy_score(y_test,y_predict)\n",
        "    # matthews = matthews_corrcoef(y_test,y_predict) \n",
        "    print('Accuracy: '+ str(accuracy))\n",
        "    print('Macro Precision: '+ str(precision))\n",
        "    print('Macro Recall: '+ str(recall))\n",
        "    print('Macro F1 score:'+ str(f1score))\n",
        "    # print('MCC:'+ str(matthews))\n",
        "\n",
        "    return({'model_name':None,\n",
        "            'target':None,\n",
        "            'algorithm':\"BERT_Logistic\",\n",
        "            'text_preprocessing':None,\n",
        "            'datasize':None,\n",
        "            'TP':tp,\n",
        "            'TN':tn,\n",
        "            'FP':fp,\n",
        "            'FN':fn,\n",
        "            'accuracy':accuracy,\n",
        "            'precision':precision,\n",
        "            'recall':recall,\n",
        "            'f1score':f1score})"
      ],
      "execution_count": 51,
      "outputs": [
        {
          "output_type": "stream",
          "text": [
            "(3752, 740, 666, 484)\n",
            "Accuracy: 0.7507975895072669\n",
            "Macro Precision: 0.6223389461413055\n",
            "Macro Recall: 0.6280661272213404\n",
            "Macro F1 score:0.6249752036890481\n",
            "(4492, 0, 1150, 0)\n",
            "Accuracy: 0.7961715703651188\n",
            "Macro Precision: 0.3980857851825594\n",
            "Macro Recall: 0.5\n",
            "Macro F1 score:0.44326031182159065\n"
          ],
          "name": "stdout"
        },
        {
          "output_type": "stream",
          "text": [
            "/usr/local/lib/python3.7/dist-packages/sklearn/metrics/_classification.py:1272: UndefinedMetricWarning: Precision is ill-defined and being set to 0.0 in labels with no predicted samples. Use `zero_division` parameter to control this behavior.\n",
            "  _warn_prf(average, modifier, msg_start, len(result))\n"
          ],
          "name": "stderr"
        }
      ]
    },
    {
      "cell_type": "code",
      "metadata": {
        "id": "w472epWq2n2b"
      },
      "source": [
        "## FOR HOC\n",
        "result = test_logistic_model_BERT(all_models[\"Logistic_all_HOC_BERT\"][0], \n",
        "                                  bert_HOC_test.get_features(), \n",
        "                                  bert_HOC_test.get_labels('label_bool'))\n",
        "result['model_name'] = 'Logistic_all_HOC_BERT'\n",
        "result['target'] = \"HOC\"\n",
        "df_result = df_result.append(result,ignore_index=True)\n",
        "\n",
        "# For DUMMY\n",
        "result = test_logistic_model_BERT(all_models[\"Logistic_all_HOC_BERT\"][0],\n",
        "                                  bert_HOC_test.get_features(), \n",
        "                                  bert_HOC_test.get_labels('label_bool'),1)\n",
        "result['model_name'] = 'Logistic_all_HOC_BERT'\n",
        "result['target'] = \"HOC\"\n",
        "df_result = df_result.append(result,ignore_index=True)\n",
        "\n",
        "# For Semi\n",
        "# Test all 6 models of Statistic BERT (3 target * all * Lemma+BERT & BERT)\n",
        "var_target = ['label_Math','label_CompVis','label_InfoTheory']\n",
        "\n",
        "for tg in var_target:\n",
        "    result = test_logistic_model_BERT(all_models[\"Logistic_all_\"+tg+\"_BERT\"][0], \n",
        "                                  bert_semi_test.get_features(), \n",
        "                                  bert_semi_test.get_labels(tg))\n",
        "    result['model_name'] = \"Logistic_all_\"+tg+\"_BERT\"\n",
        "    result['target'] = tg\n",
        "    df_result = df_result.append(result,ignore_index=True)"
      ],
      "execution_count": null,
      "outputs": []
    },
    {
      "cell_type": "code",
      "metadata": {
        "id": "-5077P47vgoX",
        "colab": {
          "base_uri": "https://localhost:8080/",
          "height": 247
        },
        "outputId": "07d4afa8-8b22-4f55-8158-24fb50c45f05"
      },
      "source": [
        "df_result"
      ],
      "execution_count": 63,
      "outputs": [
        {
          "output_type": "execute_result",
          "data": {
            "text/html": [
              "<div>\n",
              "<style scoped>\n",
              "    .dataframe tbody tr th:only-of-type {\n",
              "        vertical-align: middle;\n",
              "    }\n",
              "\n",
              "    .dataframe tbody tr th {\n",
              "        vertical-align: top;\n",
              "    }\n",
              "\n",
              "    .dataframe thead th {\n",
              "        text-align: right;\n",
              "    }\n",
              "</style>\n",
              "<table border=\"1\" class=\"dataframe\">\n",
              "  <thead>\n",
              "    <tr style=\"text-align: right;\">\n",
              "      <th></th>\n",
              "      <th>FN</th>\n",
              "      <th>FP</th>\n",
              "      <th>TN</th>\n",
              "      <th>TP</th>\n",
              "      <th>accuracy</th>\n",
              "      <th>algorithm</th>\n",
              "      <th>datasize</th>\n",
              "      <th>f1score</th>\n",
              "      <th>model_name</th>\n",
              "      <th>precision</th>\n",
              "      <th>recall</th>\n",
              "      <th>target</th>\n",
              "      <th>text_preprocessing</th>\n",
              "    </tr>\n",
              "  </thead>\n",
              "  <tbody>\n",
              "    <tr>\n",
              "      <th>0</th>\n",
              "      <td>666.0</td>\n",
              "      <td>740.0</td>\n",
              "      <td>3752.0</td>\n",
              "      <td>484.0</td>\n",
              "      <td>0.750798</td>\n",
              "      <td>BERT_Logistic</td>\n",
              "      <td>None</td>\n",
              "      <td>0.624975</td>\n",
              "      <td>Logistic_all_HOC_BERT</td>\n",
              "      <td>0.622339</td>\n",
              "      <td>0.628066</td>\n",
              "      <td>HOC</td>\n",
              "      <td>None</td>\n",
              "    </tr>\n",
              "    <tr>\n",
              "      <th>1</th>\n",
              "      <td>666.0</td>\n",
              "      <td>740.0</td>\n",
              "      <td>3752.0</td>\n",
              "      <td>484.0</td>\n",
              "      <td>0.750798</td>\n",
              "      <td>BERT_Logistic</td>\n",
              "      <td>None</td>\n",
              "      <td>0.624975</td>\n",
              "      <td>Logistic_all_HOC_BERT</td>\n",
              "      <td>0.622339</td>\n",
              "      <td>0.628066</td>\n",
              "      <td>HOC</td>\n",
              "      <td>None</td>\n",
              "    </tr>\n",
              "    <tr>\n",
              "      <th>2</th>\n",
              "      <td>1150.0</td>\n",
              "      <td>0.0</td>\n",
              "      <td>4492.0</td>\n",
              "      <td>0.0</td>\n",
              "      <td>0.796172</td>\n",
              "      <td>BERT_Logistic</td>\n",
              "      <td>None</td>\n",
              "      <td>0.443260</td>\n",
              "      <td>Logistic_all_HOC_BERT</td>\n",
              "      <td>0.398086</td>\n",
              "      <td>0.500000</td>\n",
              "      <td>HOC</td>\n",
              "      <td>None</td>\n",
              "    </tr>\n",
              "    <tr>\n",
              "      <th>3</th>\n",
              "      <td>2165.0</td>\n",
              "      <td>1068.0</td>\n",
              "      <td>12680.0</td>\n",
              "      <td>3765.0</td>\n",
              "      <td>0.835705</td>\n",
              "      <td>BERT_Logistic</td>\n",
              "      <td>None</td>\n",
              "      <td>0.793275</td>\n",
              "      <td>Logistic_all_label_Math_BERT</td>\n",
              "      <td>0.816589</td>\n",
              "      <td>0.778612</td>\n",
              "      <td>label_Math</td>\n",
              "      <td>None</td>\n",
              "    </tr>\n",
              "    <tr>\n",
              "      <th>4</th>\n",
              "      <td>908.0</td>\n",
              "      <td>110.0</td>\n",
              "      <td>17416.0</td>\n",
              "      <td>1244.0</td>\n",
              "      <td>0.948267</td>\n",
              "      <td>BERT_Logistic</td>\n",
              "      <td>None</td>\n",
              "      <td>0.840622</td>\n",
              "      <td>Logistic_all_label_CompVis_BERT</td>\n",
              "      <td>0.934603</td>\n",
              "      <td>0.785895</td>\n",
              "      <td>label_CompVis</td>\n",
              "      <td>None</td>\n",
              "    </tr>\n",
              "    <tr>\n",
              "      <th>5</th>\n",
              "      <td>1206.0</td>\n",
              "      <td>318.0</td>\n",
              "      <td>15744.0</td>\n",
              "      <td>2410.0</td>\n",
              "      <td>0.922553</td>\n",
              "      <td>BERT_Logistic</td>\n",
              "      <td>None</td>\n",
              "      <td>0.856804</td>\n",
              "      <td>Logistic_all_label_InfoTheory_BERT</td>\n",
              "      <td>0.906140</td>\n",
              "      <td>0.823342</td>\n",
              "      <td>label_InfoTheory</td>\n",
              "      <td>None</td>\n",
              "    </tr>\n",
              "  </tbody>\n",
              "</table>\n",
              "</div>"
            ],
            "text/plain": [
              "       FN      FP       TN  ...    recall            target text_preprocessing\n",
              "0   666.0   740.0   3752.0  ...  0.628066               HOC               None\n",
              "1   666.0   740.0   3752.0  ...  0.628066               HOC               None\n",
              "2  1150.0     0.0   4492.0  ...  0.500000               HOC               None\n",
              "3  2165.0  1068.0  12680.0  ...  0.778612        label_Math               None\n",
              "4   908.0   110.0  17416.0  ...  0.785895     label_CompVis               None\n",
              "5  1206.0   318.0  15744.0  ...  0.823342  label_InfoTheory               None\n",
              "\n",
              "[6 rows x 13 columns]"
            ]
          },
          "metadata": {
            "tags": []
          },
          "execution_count": 63
        }
      ]
    },
    {
      "cell_type": "code",
      "metadata": {
        "id": "tJTa89c7sPYt"
      },
      "source": [
        "df_result.to_csv(DATA_PATH+'my_csv.csv', mode='a+')"
      ],
      "execution_count": 64,
      "outputs": []
    },
    {
      "cell_type": "markdown",
      "metadata": {
        "id": "TQx5qdSyhea_"
      },
      "source": [
        "\n",
        "\n",
        "---\n",
        "\n"
      ]
    }
  ]
}