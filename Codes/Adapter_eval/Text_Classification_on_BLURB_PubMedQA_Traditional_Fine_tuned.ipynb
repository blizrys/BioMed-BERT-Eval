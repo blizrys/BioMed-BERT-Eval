{
  "nbformat": 4,
  "nbformat_minor": 0,
  "metadata": {
    "colab": {
      "name": "Text Classification on BLURB - PubMedQA - Traditional Fine-tuned",
      "private_outputs": true,
      "provenance": [],
      "collapsed_sections": [],
      "toc_visible": true,
      "machine_shape": "hm"
    },
    "language_info": {
      "name": "python"
    },
    "kernelspec": {
      "name": "python3",
      "display_name": "Python 3"
    },
    "accelerator": "GPU"
  },
  "cells": [
    {
      "cell_type": "code",
      "metadata": {
        "id": "cXosh83tkY-k"
      },
      "source": [
        "# Mount Google Drive\n",
        "from google.colab import drive\n",
        "drive.mount('/content/drive') "
      ],
      "execution_count": null,
      "outputs": []
    },
    {
      "cell_type": "code",
      "metadata": {
        "id": "0f1P0B9MhSMv"
      },
      "source": [
        "# !kill process_id"
      ],
      "execution_count": null,
      "outputs": []
    },
    {
      "cell_type": "code",
      "metadata": {
        "id": "9asyIuE-PLib"
      },
      "source": [
        "gpu_info = !nvidia-smi\n",
        "gpu_info = '\\n'.join(gpu_info)\n",
        "if gpu_info.find('failed') >= 0:\n",
        "  print('Not connected to a GPU')\n",
        "else:\n",
        "  print(gpu_info)"
      ],
      "execution_count": null,
      "outputs": []
    },
    {
      "cell_type": "code",
      "metadata": {
        "id": "6eeF1OIFLzgT"
      },
      "source": [
        "from psutil import virtual_memory\n",
        "ram_gb = virtual_memory().total / 1e9\n",
        "print('Your runtime has {:.1f} gigabytes of available RAM\\n'.format(ram_gb))\n",
        "\n",
        "if ram_gb < 20:\n",
        "  print('Not using a high-RAM runtime')\n",
        "else:\n",
        "  print('You are using a high-RAM runtime!')"
      ],
      "execution_count": null,
      "outputs": []
    },
    {
      "cell_type": "markdown",
      "metadata": {
        "id": "X4cRE8IbIrIV"
      },
      "source": [
        "If you're opening this Notebook on colab, you will probably need to install 🤗 Transformers and 🤗 Datasets. Uncomment the following cell and run it."
      ]
    },
    {
      "cell_type": "code",
      "metadata": {
        "id": "MOsHUjgdIrIW"
      },
      "source": [
        "! pip install datasets transformers"
      ],
      "execution_count": null,
      "outputs": []
    },
    {
      "cell_type": "markdown",
      "metadata": {
        "id": "fIeEuFiES0Zf"
      },
      "source": [
        "If you're opening this notebook locally, make sure your environment has an install from the last version of those libraries.\n",
        "\n",
        "To be able to share your model with the community and generate results like the one shown in the picture below via the inference API, there are a few more steps to follow.\n",
        "\n",
        "First you have to store your authentication token from the Hugging Face website (sign up [here](https://huggingface.co/join) if you haven't already!) then uncomment the following cell and input your username and password (this only works on Colab, in a regular notebook, you need to do this in a terminal):"
      ]
    },
    {
      "cell_type": "code",
      "metadata": {
        "id": "3kGxznUCS0Zg"
      },
      "source": [
        "# !huggingface-cli login"
      ],
      "execution_count": null,
      "outputs": []
    },
    {
      "cell_type": "markdown",
      "metadata": {
        "id": "d7CsmB1SS0Zh"
      },
      "source": [
        "Then you need to install Git-LFS and setup Git if you haven't already. Uncomment the following instructions and adapt with your name and email:"
      ]
    },
    {
      "cell_type": "code",
      "metadata": {
        "id": "HbrKAWGVS0Zh"
      },
      "source": [
        "!apt install git-lfs\n",
        "!git config --global user.email \"jirarotej@gmail.com\"\n",
        "!git config --global user.name \"Jirarote Jirasirikul\""
      ],
      "execution_count": null,
      "outputs": []
    },
    {
      "cell_type": "markdown",
      "metadata": {
        "id": "3coMAzCQS0Zh"
      },
      "source": [
        "Make sure your version of Transformers is at least 4.8.1 since the functionality was introduced in that version:"
      ]
    },
    {
      "cell_type": "code",
      "metadata": {
        "id": "llcCXw2wS0Zi"
      },
      "source": [
        "import transformers\n",
        "\n",
        "print(transformers.__version__)"
      ],
      "execution_count": null,
      "outputs": []
    },
    {
      "cell_type": "code",
      "metadata": {
        "id": "cdwdyqX6c5-x"
      },
      "source": [
        "from transformers import AutoTokenizer\n",
        "from transformers import AutoModelForSequenceClassification, TrainingArguments, Trainer"
      ],
      "execution_count": null,
      "outputs": []
    },
    {
      "cell_type": "markdown",
      "metadata": {
        "id": "HFASsisvIrIb"
      },
      "source": [
        "You can find a script version of this notebook to fine-tune your model in a distributed fashion using multiple GPUs or TPUs [here](https://github.com/huggingface/transformers/tree/master/examples/text-classification)."
      ]
    },
    {
      "cell_type": "markdown",
      "metadata": {
        "id": "rEJBSTyZIrIb"
      },
      "source": [
        "# Fine-tuning a model on a text classification task"
      ]
    },
    {
      "cell_type": "markdown",
      "metadata": {
        "id": "kTCFado4IrIc"
      },
      "source": [
        "In this notebook, we will see how to fine-tune one of the [🤗 Transformers](https://github.com/huggingface/transformers) model to a text classification task of the [GLUE Benchmark](https://gluebenchmark.com/).\n",
        "\n",
        "![Widget inference on a text classification task](https://github.com/huggingface/notebooks/blob/master/examples/images/text_classification.png?raw=1)\n",
        "\n",
        "The GLUE Benchmark is a group of nine classification tasks on sentences or pairs of sentences which are:\n",
        "\n",
        "- [CoLA](https://nyu-mll.github.io/CoLA/) (Corpus of Linguistic Acceptability) Determine if a sentence is grammatically correct or not.is a  dataset containing sentences labeled grammatically correct or not.\n",
        "- [MNLI](https://arxiv.org/abs/1704.05426) (Multi-Genre Natural Language Inference) Determine if a sentence entails, contradicts or is unrelated to a given hypothesis. (This dataset has two versions, one with the validation and test set coming from the same distribution, another called mismatched where the validation and test use out-of-domain data.)\n",
        "- [MRPC](https://www.microsoft.com/en-us/download/details.aspx?id=52398) (Microsoft Research Paraphrase Corpus) Determine if two sentences are paraphrases from one another or not.\n",
        "- [QNLI](https://rajpurkar.github.io/SQuAD-explorer/) (Question-answering Natural Language Inference) Determine if the answer to a question is in the second sentence or not. (This dataset is built from the SQuAD dataset.)\n",
        "- [QQP](https://data.quora.com/First-Quora-Dataset-Release-Question-Pairs) (Quora Question Pairs2) Determine if two questions are semantically equivalent or not.\n",
        "- [RTE](https://aclweb.org/aclwiki/Recognizing_Textual_Entailment) (Recognizing Textual Entailment) Determine if a sentence entails a given hypothesis or not.\n",
        "- [SST-2](https://nlp.stanford.edu/sentiment/index.html) (Stanford Sentiment Treebank) Determine if the sentence has a positive or negative sentiment.\n",
        "- [STS-B](http://ixa2.si.ehu.es/stswiki/index.php/STSbenchmark) (Semantic Textual Similarity Benchmark) Determine the similarity of two sentences with a score from 1 to 5.\n",
        "- [WNLI](https://cs.nyu.edu/faculty/davise/papers/WinogradSchemas/WS.html) (Winograd Natural Language Inference) Determine if a sentence with an anonymous pronoun and a sentence with this pronoun replaced are entailed or not. (This dataset is built from the Winograd Schema Challenge dataset.)\n",
        "\n",
        "We will see how to easily load the dataset for each one of those tasks and use the `Trainer` API to fine-tune a model on it. Each task is named by its acronym, with `mnli-mm` standing for the mismatched version of MNLI (so same training set as `mnli` but different validation and test sets):"
      ]
    },
    {
      "cell_type": "code",
      "metadata": {
        "id": "YZbiBDuGIrId"
      },
      "source": [
        "# GLUE_TASKS = [\"cola\", \"mnli\", \"mnli-mm\", \"mrpc\", \"qnli\", \"qqp\", \"rte\", \"sst2\", \"stsb\", \"wnli\"]"
      ],
      "execution_count": null,
      "outputs": []
    },
    {
      "cell_type": "markdown",
      "metadata": {
        "id": "4RRkXuteIrIh"
      },
      "source": [
        "This notebook is built to run on any of the tasks in the list above, with any model checkpoint from the [Model Hub](https://huggingface.co/models) as long as that model has a version with a classification head. Depending on you model and the GPU you are using, you might need to adjust the batch size to avoid out-of-memory errors. Set those three parameters, then the rest of the notebook should run smoothly:"
      ]
    },
    {
      "cell_type": "markdown",
      "metadata": {
        "id": "whPRbBNbIrIl"
      },
      "source": [
        "## Loading the dataset"
      ]
    },
    {
      "cell_type": "markdown",
      "metadata": {
        "id": "W7QYTpxXIrIl"
      },
      "source": [
        "We will use the [🤗 Datasets](https://github.com/huggingface/datasets) library to download the data and get the metric we need to use for evaluation (to compare our model to the benchmark). This can be easily done with the functions `load_dataset` and `load_metric`.  "
      ]
    },
    {
      "cell_type": "code",
      "metadata": {
        "id": "IreSlFmlIrIm"
      },
      "source": [
        "import os\n",
        "import pandas as pd\n",
        "from datasets import load_dataset, load_metric, Dataset, DatasetDict, ClassLabel"
      ],
      "execution_count": null,
      "outputs": []
    },
    {
      "cell_type": "markdown",
      "metadata": {
        "id": "CKx2zKs5IrIq"
      },
      "source": [
        "Apart from `mnli-mm` being a special code, we can directly pass our task name to those functions. `load_dataset` will cache the dataset to avoid downloading it again the next time you run this cell."
      ]
    },
    {
      "cell_type": "code",
      "metadata": {
        "id": "s_AY1ATSIrIq"
      },
      "source": [
        "# actual_task = \"mnli\" if task == \"mnli-mm\" else task\n",
        "# dataset = load_dataset(\"glue\", actual_task)\n",
        "# metric = load_metric('glue', actual_task)"
      ],
      "execution_count": null,
      "outputs": []
    },
    {
      "cell_type": "markdown",
      "metadata": {
        "id": "N_hCcDPCkHrG"
      },
      "source": [
        "### pubmedqa"
      ]
    },
    {
      "cell_type": "code",
      "metadata": {
        "id": "HpC5VXuIcQy0"
      },
      "source": [
        "DATAPATH = \"/content/drive/MyDrive/MinorThesis/\"\n",
        "DATASET = \"pubmedqa\"\n",
        "\n",
        "# Train & Valid\n",
        "list_data_fold = []\n",
        "for i in range(10): # We merge dataset to generate trained (Separate later using index - filename_line)\n",
        "    temppath_train = os.path.join(DATAPATH,\"datasets\",\"raw\",DATASET,\"pqal_fold\"+str(i),\"train_set.json\")\n",
        "    temppath_valid = os.path.join(DATAPATH,\"datasets\",\"raw\",DATASET,\"pqal_fold\"+str(i),\"dev_set.json\")\n",
        "        \n",
        "    df_temp_train = pd.read_json(temppath_train).transpose()\n",
        "    df_temp_valid = pd.read_json(temppath_valid).transpose()\n",
        "    list_data_fold.append((df_temp_train,df_temp_valid))\n",
        "    # print(df_temp_train.shape,df_temp_valid.shape)\n",
        "\n",
        "# Test\n",
        "temppath_test = os.path.join(DATAPATH,\"datasets\",\"raw\",DATASET,'test_set.json')\n",
        "df_test = pd.read_json(temppath_test).transpose()"
      ],
      "execution_count": null,
      "outputs": []
    },
    {
      "cell_type": "code",
      "metadata": {
        "id": "kgidMNGthzEZ"
      },
      "source": [
        "def get_pubmedqa_fold(list_data_fold,data_test,fold_no = 0):\n",
        "    # temppath_test = os.path.join(DATAPATH,\"datasets\",\"raw\",DATASET,\"test_set.json\")\n",
        "    df_train = list_data_fold[fold_no][0]\n",
        "    df_valid = list_data_fold[fold_no][1]\n",
        "    df_test = data_test\n",
        "\n",
        "    df_train['CONTEXTS_JOINED'] = df_train.CONTEXTS.apply(lambda x : (' ').join(x))\n",
        "    df_valid['CONTEXTS_JOINED'] = df_valid.CONTEXTS.apply(lambda x : (' ').join(x))\n",
        "    df_test['CONTEXTS_JOINED'] = df_test.CONTEXTS.apply(lambda x : (' ').join(x))\n",
        "    \n",
        "    # # REASONING REQUIRED\n",
        "    # df_train_mod = df_train[['QUESTION','CONTEXTS','final_decision','reasoning_required_pred','reasoning_free_pred']].reset_index().copy()\n",
        "    # df_train_mod['text'] = df_train_mod.QUESTION +\". \"+ df_train_mod.CONTEXTS.apply(lambda x : (' ').join(x)) #question before\n",
        "    # # df_train_mod['text'] = df_train_mod.CONTEXTS.apply(lambda x : (' ').join(x)) +\" \"+ df_train_mod.QUESTION  #question after\n",
        "    # df_train_mod.drop(columns=['QUESTION','CONTEXTS'],inplace=True)\n",
        "    # df_train_mod.columns = ['id','label','reasoning_required_pred','reasoning_free_pred','text']\n",
        "\n",
        "    # df_valid_mod = df_valid[['QUESTION','CONTEXTS','final_decision','reasoning_required_pred','reasoning_free_pred']].reset_index().copy()\n",
        "    # df_valid_mod['text'] = df_valid_mod.QUESTION +\". \"+ df_valid_mod.CONTEXTS.apply(lambda x : (' ').join(x)) #question before\n",
        "    # # df_train_mod['text'] = df_valid_mod.CONTEXTS.apply(lambda x : (' ').join(x)) +\" \"+ df_valid_mod.QUESTION  #question after\n",
        "    # df_valid_mod.drop(columns=['QUESTION','CONTEXTS'],inplace=True)\n",
        "    # df_valid_mod.columns = ['id','label','reasoning_required_pred','reasoning_free_pred','text']\n",
        "\n",
        "    # df_test_mod = df_test[['QUESTION','CONTEXTS','final_decision','reasoning_required_pred','reasoning_free_pred']].reset_index().copy()\n",
        "    # df_test_mod['text'] = df_test_mod.QUESTION +\". \"+ df_test_mod.CONTEXTS.apply(lambda x : (' ').join(x)) #question before\n",
        "    # # df_test_mod['text'] = df_test_mod.CONTEXTS.apply(lambda x : (' ').join(x)) +\" \"+ df_test_mod.QUESTION  #question after\n",
        "    # df_test_mod.drop(columns=['QUESTION','CONTEXTS'],inplace=True)\n",
        "    # df_test_mod.columns = ['id','label','reasoning_required_pred','reasoning_free_pred','text']\n",
        "\n",
        "    # id2label={ 0: \"no\", 1: \"maybe\", 2: \"yes\"}\n",
        "    # label2id = dict((v,k) for k,v in id2label.items())\n",
        "    # df_train_mod['label'] = df_train_mod.label.apply(lambda x : label2id[x])\n",
        "    # df_valid_mod['label'] = df_valid_mod.label.apply(lambda x : label2id[x])\n",
        "    # df_test_mod['label'] = df_test_mod.label.apply(lambda x : label2id[x])\n",
        "\n",
        "    dataset = DatasetDict({\n",
        "        'train':Dataset.from_pandas(df_train),\n",
        "        'validation':Dataset.from_pandas(df_valid),\n",
        "        'test':Dataset.from_pandas(df_test),\n",
        "    })\n",
        "\n",
        "    dataset.remove_columns_(['CONTEXTS','LABELS', 'MESHES','YEAR', 'reasoning_required_pred', 'reasoning_free_pred', 'LONG_ANSWER','__index_level_0__'])\n",
        "    dataset.rename_column_(\"final_decision\", \"labels\")\n",
        "    return dataset.class_encode_column(\"labels\")"
      ],
      "execution_count": null,
      "outputs": []
    },
    {
      "cell_type": "code",
      "metadata": {
        "id": "7fDvLyAz3oVk"
      },
      "source": [
        "dataset = get_pubmedqa_fold(list_data_fold,df_test,0)\n",
        "dataset.num_rows"
      ],
      "execution_count": null,
      "outputs": []
    },
    {
      "cell_type": "markdown",
      "metadata": {
        "id": "RzfPtOMoIrIu"
      },
      "source": [
        "The `dataset` object itself is [`DatasetDict`](https://huggingface.co/docs/datasets/package_reference/main_classes.html#datasetdict), which contains one key for the training, validation and test set (with more keys for the mismatched validation and test set in the special case of `mnli`)."
      ]
    },
    {
      "cell_type": "markdown",
      "metadata": {
        "id": "u3EtYfeHIrIz"
      },
      "source": [
        "To access an actual element, you need to select a split first, then give an index:"
      ]
    },
    {
      "cell_type": "code",
      "metadata": {
        "id": "5EnT7KQMpSg3"
      },
      "source": [
        "dataset[\"train\"].features"
      ],
      "execution_count": null,
      "outputs": []
    },
    {
      "cell_type": "code",
      "metadata": {
        "id": "X6HrpprwIrIz"
      },
      "source": [
        "dataset[\"train\"][0]"
      ],
      "execution_count": null,
      "outputs": []
    },
    {
      "cell_type": "markdown",
      "metadata": {
        "id": "WHUmphG3IrI3"
      },
      "source": [
        "To get a sense of what the data looks like, the following function will show some examples picked randomly in the dataset."
      ]
    },
    {
      "cell_type": "code",
      "metadata": {
        "id": "i3j8APAoIrI3"
      },
      "source": [
        "import datasets\n",
        "import random\n",
        "import pandas as pd\n",
        "from IPython.display import display, HTML\n",
        "\n",
        "def show_random_elements(dataset, num_examples=10):\n",
        "    assert num_examples <= len(dataset), \"Can't pick more elements than there are in the dataset.\"\n",
        "    picks = []\n",
        "    for _ in range(num_examples):\n",
        "        pick = random.randint(0, len(dataset)-1)\n",
        "        while pick in picks:\n",
        "            pick = random.randint(0, len(dataset)-1)\n",
        "        picks.append(pick)\n",
        "    \n",
        "    df = pd.DataFrame(dataset[picks])\n",
        "    for column, typ in dataset.features.items():\n",
        "        if isinstance(typ, datasets.ClassLabel):\n",
        "            df[column] = df[column].transform(lambda i: typ.names[i])\n",
        "    display(HTML(df.to_html()))"
      ],
      "execution_count": null,
      "outputs": []
    },
    {
      "cell_type": "code",
      "metadata": {
        "id": "SZy5tRB_IrI7"
      },
      "source": [
        "# show_random_elements(dataset[\"train\"])"
      ],
      "execution_count": null,
      "outputs": []
    },
    {
      "cell_type": "markdown",
      "metadata": {
        "id": "lnjDIuQ3IrI-"
      },
      "source": [
        "The metric is an instance of [`datasets.Metric`](https://huggingface.co/docs/datasets/package_reference/main_classes.html#datasets.Metric):"
      ]
    },
    {
      "cell_type": "code",
      "metadata": {
        "id": "z1dCFN85tjbd"
      },
      "source": [
        "# https://github.com/huggingface/datasets/tree/master/metrics\n",
        "from datasets import load_metric\n",
        "metric = load_metric(\"accuracy\")\n",
        "\n",
        "# metric = load_metric(\"https://github.com/huggingface/datasets/blob/master/metrics/accuracy/accuracy.py\")\n",
        "# Example of typical usage\n",
        "# for batch in dataset:\n",
        "#     inputs, references = batch\n",
        "#     predictions = model(inputs)\n",
        "#     metric.add_batch(predictions=predictions, references=references)\n",
        "# score = metric.compute()"
      ],
      "execution_count": null,
      "outputs": []
    },
    {
      "cell_type": "code",
      "metadata": {
        "id": "5o4rUteaIrI_"
      },
      "source": [
        "metric"
      ],
      "execution_count": null,
      "outputs": []
    },
    {
      "cell_type": "markdown",
      "metadata": {
        "id": "jAWdqcUBIrJC"
      },
      "source": [
        "You can call its `compute` method with your predictions and labels directly and it will return a dictionary with the metric(s) value:"
      ]
    },
    {
      "cell_type": "code",
      "metadata": {
        "id": "6XN1Rq0aIrJC"
      },
      "source": [
        "import numpy as np\n",
        "\n",
        "fake_preds = np.random.randint(0, 3, size=(64,))\n",
        "fake_labels = np.random.randint(0, 3, size=(64,))\n",
        "metric.compute(predictions=fake_preds, references=fake_labels)"
      ],
      "execution_count": null,
      "outputs": []
    },
    {
      "cell_type": "markdown",
      "metadata": {
        "id": "545PP3o8IrJV"
      },
      "source": [
        "## Fine-tuning the model"
      ]
    },
    {
      "cell_type": "code",
      "metadata": {
        "id": "UmvbnJ9JIrJd"
      },
      "source": [
        "def compute_metrics(eval_pred):\n",
        "    predictions, labels = eval_pred\n",
        "    # predictions = predictions[:, 0]\n",
        "    predictions = np.argmax(predictions, axis=1)\n",
        "    return metric.compute(predictions=predictions, references=labels)"
      ],
      "execution_count": null,
      "outputs": []
    },
    {
      "cell_type": "markdown",
      "metadata": {
        "id": "FLWyEgoiV6rC"
      },
      "source": [
        "#### For all folds"
      ]
    },
    {
      "cell_type": "code",
      "metadata": {
        "id": "XUClmB27BRJq"
      },
      "source": [
        "import torch\n",
        "torch.cuda.empty_cache()"
      ],
      "execution_count": null,
      "outputs": []
    },
    {
      "cell_type": "code",
      "metadata": {
        "id": "tvL4Yb_K9Vjg"
      },
      "source": [
        "task = \"pubmedqa\"\n",
        "model_checkpoint = \"microsoft/BiomedNLP-PubMedBERT-base-uncased-abstract-fulltext\"\n",
        "# model_checkpoint = \"dmis-lab/biobert-base-cased-v1.1\"\n",
        "# model_checkpoint = \"dmis-lab/biobert-v1.1\"\n",
        "\n",
        "LEARNING_RATE = 3e-3\n",
        "BATCH_SIZE = 8\n",
        "NUM_LABELS = 3\n",
        "MAX_LENGTH = 512\n",
        "\n",
        "metric_name = \"accuracy\"\n",
        "model_name = model_checkpoint.split(\"/\")[-1]"
      ],
      "execution_count": null,
      "outputs": []
    },
    {
      "cell_type": "code",
      "metadata": {
        "id": "uiG9Jpb59beP"
      },
      "source": [
        "tokenizer = AutoTokenizer.from_pretrained(model_checkpoint, use_fast=True)\n",
        "\n",
        "def preprocess_function(examples):\n",
        "    return tokenizer(examples[\"QUESTION\"], examples[\"CONTEXTS_JOINED\"], truncation=True,padding=True,max_length=MAX_LENGTH)"
      ],
      "execution_count": null,
      "outputs": []
    },
    {
      "cell_type": "code",
      "metadata": {
        "id": "WVg9Pyu3y8po"
      },
      "source": [
        "list_acc = []\n",
        "for i in range(10):\n",
        "    torch.cuda.empty_cache()\n",
        "    print(\"###### FOLD\",i,\"######\")\n",
        "    dataset = get_pubmedqa_fold(list_data_fold,df_test,i)\n",
        "    print(\"num_rows\",dataset.num_rows)\n",
        "\n",
        "    encoded_dataset = dataset.map(preprocess_function, batched=True)\n",
        "    encoded_dataset.set_format(type=\"torch\", columns=[\"input_ids\", \"attention_mask\", \"labels\"])\n",
        "\n",
        "    model = AutoModelForSequenceClassification.from_pretrained(model_checkpoint, num_labels=NUM_LABELS)\n",
        "\n",
        "    args = TrainingArguments(\n",
        "        f\"{model_name}-finetuned-{task}\",\n",
        "        evaluation_strategy = \"epoch\",\n",
        "        save_strategy = \"epoch\",\n",
        "        learning_rate=LEARNING_RATE,\n",
        "        per_device_train_batch_size=BATCH_SIZE,\n",
        "        per_device_eval_batch_size=BATCH_SIZE,\n",
        "        eval_accumulation_steps=1,\n",
        "        num_train_epochs=10,\n",
        "        weight_decay=0.01,\n",
        "        load_best_model_at_end=True,\n",
        "        metric_for_best_model=metric_name,\n",
        "        # The next line is important to ensure the dataset labels are properly passed to the model\n",
        "        remove_unused_columns=True,\n",
        "        # push_to_hub=True,\n",
        "        # push_to_hub_model_id=f\"{model_name}-finetuned-{task}-2\",\n",
        "    )\n",
        "\n",
        "    trainer = Trainer(\n",
        "        model,\n",
        "        args,\n",
        "        train_dataset=encoded_dataset[\"train\"],\n",
        "        eval_dataset=encoded_dataset[\"validation\"],\n",
        "        tokenizer=tokenizer,\n",
        "        compute_metrics=compute_metrics,\n",
        "    )\n",
        "\n",
        "    trainer.train()\n",
        "\n",
        "    commit_msg = \"\"\n",
        "    commit_msg += \"BATCH_SIZE=\"+str(BATCH_SIZE)+\"\\n\"\n",
        "    commit_msg += \"LEARNING_RATE=\"+str(LEARNING_RATE)+\"\\n\"\n",
        "    commit_msg += \"MAX_LENGTH=\"+str(MAX_LENGTH)+\"\\n\"\n",
        "    commit_msg += \"FOLD=\"+str(i)+\"\\n\"\n",
        "\n",
        "    # trainer.push_to_hub(commit_msg)\n",
        "    output = trainer.evaluate(encoded_dataset['test'])\n",
        "    list_acc.append(output['eval_accuracy'])\n"
      ],
      "execution_count": null,
      "outputs": []
    },
    {
      "cell_type": "code",
      "metadata": {
        "id": "1rAMUxQMYX5f"
      },
      "source": [
        "list_acc"
      ],
      "execution_count": null,
      "outputs": []
    },
    {
      "cell_type": "code",
      "metadata": {
        "id": "CjxPX4El2G6k"
      },
      "source": [
        "np.mean(list_acc)"
      ],
      "execution_count": null,
      "outputs": []
    }
  ]
}