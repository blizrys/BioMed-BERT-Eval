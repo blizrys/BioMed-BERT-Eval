{
  "nbformat": 4,
  "nbformat_minor": 0,
  "metadata": {
    "colab": {
      "name": "Text Classification on BLURB - HoC - Traditional Fine-tuned",
      "private_outputs": true,
      "provenance": [],
      "collapsed_sections": [],
      "toc_visible": true
    },
    "language_info": {
      "name": "python"
    },
    "kernelspec": {
      "name": "python3",
      "display_name": "Python 3"
    },
    "accelerator": "GPU"
  },
  "cells": [
    {
      "cell_type": "code",
      "metadata": {
        "id": "cXosh83tkY-k"
      },
      "source": [
        "# Mount Google Drive\n",
        "from google.colab import drive\n",
        "drive.mount('/content/drive') "
      ],
      "execution_count": null,
      "outputs": []
    },
    {
      "cell_type": "code",
      "metadata": {
        "id": "9asyIuE-PLib"
      },
      "source": [
        "gpu_info = !nvidia-smi\n",
        "gpu_info = '\\n'.join(gpu_info)\n",
        "if gpu_info.find('failed') >= 0:\n",
        "  print('Not connected to a GPU')\n",
        "else:\n",
        "  print(gpu_info)"
      ],
      "execution_count": null,
      "outputs": []
    },
    {
      "cell_type": "code",
      "metadata": {
        "id": "6eeF1OIFLzgT"
      },
      "source": [
        "from psutil import virtual_memory\n",
        "ram_gb = virtual_memory().total / 1e9\n",
        "print('Your runtime has {:.1f} gigabytes of available RAM\\n'.format(ram_gb))\n",
        "\n",
        "if ram_gb < 20:\n",
        "  print('Not using a high-RAM runtime')\n",
        "else:\n",
        "  print('You are using a high-RAM runtime!')"
      ],
      "execution_count": null,
      "outputs": []
    },
    {
      "cell_type": "markdown",
      "metadata": {
        "id": "X4cRE8IbIrIV"
      },
      "source": [
        "If you're opening this Notebook on colab, you will probably need to install 🤗 Transformers and 🤗 Datasets. Uncomment the following cell and run it."
      ]
    },
    {
      "cell_type": "code",
      "metadata": {
        "id": "MOsHUjgdIrIW"
      },
      "source": [
        "! pip install datasets transformers"
      ],
      "execution_count": null,
      "outputs": []
    },
    {
      "cell_type": "markdown",
      "metadata": {
        "id": "fIeEuFiES0Zf"
      },
      "source": [
        "If you're opening this notebook locally, make sure your environment has an install from the last version of those libraries.\n",
        "\n",
        "To be able to share your model with the community and generate results like the one shown in the picture below via the inference API, there are a few more steps to follow.\n",
        "\n",
        "First you have to store your authentication token from the Hugging Face website (sign up [here](https://huggingface.co/join) if you haven't already!) then uncomment the following cell and input your username and password (this only works on Colab, in a regular notebook, you need to do this in a terminal):"
      ]
    },
    {
      "cell_type": "code",
      "metadata": {
        "id": "3kGxznUCS0Zg"
      },
      "source": [
        "# !huggingface-cli login"
      ],
      "execution_count": null,
      "outputs": []
    },
    {
      "cell_type": "markdown",
      "metadata": {
        "id": "d7CsmB1SS0Zh"
      },
      "source": [
        "Then you need to install Git-LFS and setup Git if you haven't already. Uncomment the following instructions and adapt with your name and email:"
      ]
    },
    {
      "cell_type": "code",
      "metadata": {
        "id": "HbrKAWGVS0Zh"
      },
      "source": [
        "!apt install git-lfs\n",
        "!git config --global user.email \"jirarotej@gmail.com\"\n",
        "!git config --global user.name \"Jirarote Jirasirikul\""
      ],
      "execution_count": null,
      "outputs": []
    },
    {
      "cell_type": "markdown",
      "metadata": {
        "id": "3coMAzCQS0Zh"
      },
      "source": [
        "Make sure your version of Transformers is at least 4.8.1 since the functionality was introduced in that version:"
      ]
    },
    {
      "cell_type": "code",
      "metadata": {
        "id": "llcCXw2wS0Zi"
      },
      "source": [
        "import transformers\n",
        "\n",
        "print(transformers.__version__)"
      ],
      "execution_count": null,
      "outputs": []
    },
    {
      "cell_type": "code",
      "metadata": {
        "id": "cdwdyqX6c5-x"
      },
      "source": [
        "from transformers import AutoTokenizer\n",
        "from transformers import AutoModelForSequenceClassification, TrainingArguments, Trainer"
      ],
      "execution_count": null,
      "outputs": []
    },
    {
      "cell_type": "markdown",
      "metadata": {
        "id": "HFASsisvIrIb"
      },
      "source": [
        "You can find a script version of this notebook to fine-tune your model in a distributed fashion using multiple GPUs or TPUs [here](https://github.com/huggingface/transformers/tree/master/examples/text-classification)."
      ]
    },
    {
      "cell_type": "markdown",
      "metadata": {
        "id": "rEJBSTyZIrIb"
      },
      "source": [
        "# Fine-tuning a model on a text classification task"
      ]
    },
    {
      "cell_type": "markdown",
      "metadata": {
        "id": "kTCFado4IrIc"
      },
      "source": [
        "In this notebook, we will see how to fine-tune one of the [🤗 Transformers](https://github.com/huggingface/transformers) model to a text classification task of the [GLUE Benchmark](https://gluebenchmark.com/).\n",
        "\n",
        "![Widget inference on a text classification task](https://github.com/huggingface/notebooks/blob/master/examples/images/text_classification.png?raw=1)\n",
        "\n",
        "The GLUE Benchmark is a group of nine classification tasks on sentences or pairs of sentences which are:\n",
        "\n",
        "- [CoLA](https://nyu-mll.github.io/CoLA/) (Corpus of Linguistic Acceptability) Determine if a sentence is grammatically correct or not.is a  dataset containing sentences labeled grammatically correct or not.\n",
        "- [MNLI](https://arxiv.org/abs/1704.05426) (Multi-Genre Natural Language Inference) Determine if a sentence entails, contradicts or is unrelated to a given hypothesis. (This dataset has two versions, one with the validation and test set coming from the same distribution, another called mismatched where the validation and test use out-of-domain data.)\n",
        "- [MRPC](https://www.microsoft.com/en-us/download/details.aspx?id=52398) (Microsoft Research Paraphrase Corpus) Determine if two sentences are paraphrases from one another or not.\n",
        "- [QNLI](https://rajpurkar.github.io/SQuAD-explorer/) (Question-answering Natural Language Inference) Determine if the answer to a question is in the second sentence or not. (This dataset is built from the SQuAD dataset.)\n",
        "- [QQP](https://data.quora.com/First-Quora-Dataset-Release-Question-Pairs) (Quora Question Pairs2) Determine if two questions are semantically equivalent or not.\n",
        "- [RTE](https://aclweb.org/aclwiki/Recognizing_Textual_Entailment) (Recognizing Textual Entailment) Determine if a sentence entails a given hypothesis or not.\n",
        "- [SST-2](https://nlp.stanford.edu/sentiment/index.html) (Stanford Sentiment Treebank) Determine if the sentence has a positive or negative sentiment.\n",
        "- [STS-B](http://ixa2.si.ehu.es/stswiki/index.php/STSbenchmark) (Semantic Textual Similarity Benchmark) Determine the similarity of two sentences with a score from 1 to 5.\n",
        "- [WNLI](https://cs.nyu.edu/faculty/davise/papers/WinogradSchemas/WS.html) (Winograd Natural Language Inference) Determine if a sentence with an anonymous pronoun and a sentence with this pronoun replaced are entailed or not. (This dataset is built from the Winograd Schema Challenge dataset.)\n",
        "\n",
        "We will see how to easily load the dataset for each one of those tasks and use the `Trainer` API to fine-tune a model on it. Each task is named by its acronym, with `mnli-mm` standing for the mismatched version of MNLI (so same training set as `mnli` but different validation and test sets):"
      ]
    },
    {
      "cell_type": "code",
      "metadata": {
        "id": "YZbiBDuGIrId"
      },
      "source": [
        "# GLUE_TASKS = [\"cola\", \"mnli\", \"mnli-mm\", \"mrpc\", \"qnli\", \"qqp\", \"rte\", \"sst2\", \"stsb\", \"wnli\"]"
      ],
      "execution_count": null,
      "outputs": []
    },
    {
      "cell_type": "markdown",
      "metadata": {
        "id": "4RRkXuteIrIh"
      },
      "source": [
        "This notebook is built to run on any of the tasks in the list above, with any model checkpoint from the [Model Hub](https://huggingface.co/models) as long as that model has a version with a classification head. Depending on you model and the GPU you are using, you might need to adjust the batch size to avoid out-of-memory errors. Set those three parameters, then the rest of the notebook should run smoothly:"
      ]
    },
    {
      "cell_type": "markdown",
      "metadata": {
        "id": "whPRbBNbIrIl"
      },
      "source": [
        "## Loading the dataset"
      ]
    },
    {
      "cell_type": "markdown",
      "metadata": {
        "id": "W7QYTpxXIrIl"
      },
      "source": [
        "We will use the [🤗 Datasets](https://github.com/huggingface/datasets) library to download the data and get the metric we need to use for evaluation (to compare our model to the benchmark). This can be easily done with the functions `load_dataset` and `load_metric`.  "
      ]
    },
    {
      "cell_type": "code",
      "metadata": {
        "id": "IreSlFmlIrIm"
      },
      "source": [
        "import json\n",
        "import os\n",
        "import pandas as pd\n",
        "from datasets import load_dataset, load_metric, Dataset, DatasetDict, ClassLabel"
      ],
      "execution_count": null,
      "outputs": []
    },
    {
      "cell_type": "markdown",
      "metadata": {
        "id": "CKx2zKs5IrIq"
      },
      "source": [
        "Apart from `mnli-mm` being a special code, we can directly pass our task name to those functions. `load_dataset` will cache the dataset to avoid downloading it again the next time you run this cell."
      ]
    },
    {
      "cell_type": "code",
      "metadata": {
        "id": "s_AY1ATSIrIq"
      },
      "source": [
        "# actual_task = \"mnli\" if task == \"mnli-mm\" else task\n",
        "# dataset = load_dataset(\"glue\", actual_task)\n",
        "# metric = load_metric('glue', actual_task)"
      ],
      "execution_count": null,
      "outputs": []
    },
    {
      "cell_type": "markdown",
      "metadata": {
        "id": "vt3fuGoWALVn"
      },
      "source": [
        "### HoC"
      ]
    },
    {
      "cell_type": "code",
      "metadata": {
        "id": "6nll3N4CCtvU"
      },
      "source": [
        "HOC_LABEL_LIST = ['label_IM', 'label_ID', 'label_CE', 'label_RI', 'label_GS', 'label_GI', 'label_A', 'label_CD', 'label_PS', 'label_TPI']\n",
        "        \n",
        "def extract_hoc_label(df_input):\n",
        "    try:\n",
        "        temp = df_input['labels'].str.split(',').apply(lambda x: [int(i.split('_')[1]) for i in x])\n",
        "        temp_df = pd.DataFrame(temp.tolist())\n",
        "        temp_df.columns = HOC_LABEL_LIST\n",
        "        df_output = pd.concat([df_input,temp_df], axis=1)\n",
        "        print(\"Extract HoC label\")\n",
        "        return df_output\n",
        "    except:\n",
        "        print(\"Something went wrong\")"
      ],
      "execution_count": null,
      "outputs": []
    },
    {
      "cell_type": "code",
      "metadata": {
        "id": "kiFYiCE3AOJm"
      },
      "source": [
        "DATAPATH = \"/content/drive/MyDrive/MinorThesis/\"\n",
        "DATASET = \"HoC\"\n",
        "\n",
        "temppath_train = os.path.join(DATAPATH,\"datasets\",\"raw\",DATASET,\"train.tsv\")\n",
        "temppath_valid = os.path.join(DATAPATH,\"datasets\",\"raw\",DATASET,\"dev.tsv\")\n",
        "temppath_test = os.path.join(DATAPATH,\"datasets\",\"raw\",DATASET,\"test.tsv\")\n",
        "\n",
        "df_train = pd.read_csv(temppath_train, sep='\\t')\n",
        "df_test = pd.read_csv(temppath_test, sep='\\t')\n",
        "df_valid = pd.read_csv(temppath_valid, sep='\\t')\n",
        "\n",
        "df_train = extract_hoc_label(df_train)\n",
        "df_test = extract_hoc_label(df_test)\n",
        "df_valid = extract_hoc_label(df_valid)\n",
        "\n",
        "dataset = DatasetDict({\n",
        "    'train':Dataset.from_pandas(df_train),\n",
        "    'validation':Dataset.from_pandas(df_valid),\n",
        "    'test':Dataset.from_pandas(df_test),\n",
        "})\n",
        "\n",
        "dataset = dataset.remove_columns(['labels'])\n",
        "# for col in HOC_LABEL_LIST:\n",
        "#     dataset = dataset.class_encode_column(col)\n",
        "# dataset.rename_column_(\"final_decision\", \"labels\")\n",
        "dataset.num_rows"
      ],
      "execution_count": null,
      "outputs": []
    },
    {
      "cell_type": "code",
      "metadata": {
        "id": "7fDvLyAz3oVk"
      },
      "source": [
        "# dataset = get_pubmedqa_fold(list_data_fold,df_test,0)\n",
        "# dataset.num_rows"
      ],
      "execution_count": null,
      "outputs": []
    },
    {
      "cell_type": "markdown",
      "metadata": {
        "id": "RzfPtOMoIrIu"
      },
      "source": [
        "The `dataset` object itself is [`DatasetDict`](https://huggingface.co/docs/datasets/package_reference/main_classes.html#datasetdict), which contains one key for the training, validation and test set (with more keys for the mismatched validation and test set in the special case of `mnli`)."
      ]
    },
    {
      "cell_type": "markdown",
      "metadata": {
        "id": "u3EtYfeHIrIz"
      },
      "source": [
        "To access an actual element, you need to select a split first, then give an index:"
      ]
    },
    {
      "cell_type": "code",
      "metadata": {
        "id": "5EnT7KQMpSg3"
      },
      "source": [
        "dataset[\"train\"].features"
      ],
      "execution_count": null,
      "outputs": []
    },
    {
      "cell_type": "code",
      "metadata": {
        "id": "X6HrpprwIrIz"
      },
      "source": [
        "dataset[\"train\"][0]"
      ],
      "execution_count": null,
      "outputs": []
    },
    {
      "cell_type": "markdown",
      "metadata": {
        "id": "WHUmphG3IrI3"
      },
      "source": [
        "To get a sense of what the data looks like, the following function will show some examples picked randomly in the dataset."
      ]
    },
    {
      "cell_type": "code",
      "metadata": {
        "id": "i3j8APAoIrI3"
      },
      "source": [
        "import datasets\n",
        "import random\n",
        "import pandas as pd\n",
        "from IPython.display import display, HTML\n",
        "\n",
        "def show_random_elements(dataset, num_examples=10):\n",
        "    assert num_examples <= len(dataset), \"Can't pick more elements than there are in the dataset.\"\n",
        "    picks = []\n",
        "    for _ in range(num_examples):\n",
        "        pick = random.randint(0, len(dataset)-1)\n",
        "        while pick in picks:\n",
        "            pick = random.randint(0, len(dataset)-1)\n",
        "        picks.append(pick)\n",
        "    \n",
        "    df = pd.DataFrame(dataset[picks])\n",
        "    for column, typ in dataset.features.items():\n",
        "        if isinstance(typ, datasets.ClassLabel):\n",
        "            df[column] = df[column].transform(lambda i: typ.names[i])\n",
        "    display(HTML(df.to_html()))"
      ],
      "execution_count": null,
      "outputs": []
    },
    {
      "cell_type": "code",
      "metadata": {
        "id": "SZy5tRB_IrI7"
      },
      "source": [
        "show_random_elements(dataset[\"train\"])"
      ],
      "execution_count": null,
      "outputs": []
    },
    {
      "cell_type": "markdown",
      "metadata": {
        "id": "lnjDIuQ3IrI-"
      },
      "source": [
        "The metric is an instance of [`datasets.Metric`](https://huggingface.co/docs/datasets/package_reference/main_classes.html#datasets.Metric):"
      ]
    },
    {
      "cell_type": "code",
      "metadata": {
        "id": "z1dCFN85tjbd"
      },
      "source": [
        "# https://github.com/huggingface/datasets/tree/master/metrics\n",
        "from datasets import load_metric\n",
        "metric = load_metric(\"accuracy\")\n",
        "\n",
        "# metric = load_metric(\"https://github.com/huggingface/datasets/blob/master/metrics/accuracy/accuracy.py\")\n",
        "# Example of typical usage\n",
        "# for batch in dataset:\n",
        "#     inputs, references = batch\n",
        "#     predictions = model(inputs)\n",
        "#     metric.add_batch(predictions=predictions, references=references)\n",
        "# score = metric.compute()"
      ],
      "execution_count": null,
      "outputs": []
    },
    {
      "cell_type": "code",
      "metadata": {
        "id": "5o4rUteaIrI_"
      },
      "source": [
        "metric"
      ],
      "execution_count": null,
      "outputs": []
    },
    {
      "cell_type": "markdown",
      "metadata": {
        "id": "jAWdqcUBIrJC"
      },
      "source": [
        "You can call its `compute` method with your predictions and labels directly and it will return a dictionary with the metric(s) value:"
      ]
    },
    {
      "cell_type": "code",
      "metadata": {
        "id": "6XN1Rq0aIrJC"
      },
      "source": [
        "import numpy as np\n",
        "\n",
        "fake_preds = np.random.randint(0, 2, size=(64,))\n",
        "fake_labels = np.random.randint(0, 2, size=(64,))\n",
        "metric.compute(predictions=fake_preds, references=fake_labels)"
      ],
      "execution_count": null,
      "outputs": []
    },
    {
      "cell_type": "markdown",
      "metadata": {
        "id": "545PP3o8IrJV"
      },
      "source": [
        "## Fine-tuning the model"
      ]
    },
    {
      "cell_type": "code",
      "metadata": {
        "id": "O9LtRfmuOMYt"
      },
      "source": [
        "# # MY GLOBAL FUNCTION - \n",
        "\n",
        "ENABLE_LOGS = 1\n",
        "def print_log(*arg, log_type=\"Info\"):\n",
        "    global ENABLE_LOGS\n",
        "    if(ENABLE_LOGS==1 or log_type!=\"Info\"): \n",
        "        print(\"[\"+log_type+\"]\",\" \".join(str(x) for x in arg))"
      ],
      "execution_count": null,
      "outputs": []
    },
    {
      "cell_type": "code",
      "metadata": {
        "id": "eF13tLxGFBDj"
      },
      "source": [
        "from sklearn.metrics import confusion_matrix, classification_report\n",
        "class my_evaluator:\n",
        "    LABELS_HOC_FULL = ['activating invasion and metastasis', 'avoiding immune destruction',\n",
        "                  'cellular energetics', 'enabling replicative immortality', 'evading growth suppressors',\n",
        "                  'genomic instability and mutation', 'inducing angiogenesis', 'resisting cell death',\n",
        "                  'sustaining proliferative signaling', 'tumor promoting inflammation']\n",
        "    LABELS_HOC_SHORT = ['label_IM', 'label_ID', \n",
        "                       'label_CE', 'label_RI', 'label_GS', \n",
        "                       'label_GI', 'label_A', 'label_CD', \n",
        "                       'label_PS', 'label_TPI']\n",
        "    @classmethod\n",
        "    def divide(self, x, y):\n",
        "        return np.true_divide(x, y, out=np.zeros_like(x, dtype=np.float), where=y != 0)\n",
        "\n",
        "    @classmethod\n",
        "    def get_p_r_f_arrary(self, test_predict_label, test_true_label):\n",
        "        num, cat = test_predict_label.shape\n",
        "        # print(num,cat)\n",
        "        acc_list = []\n",
        "        prc_list = []\n",
        "        rec_list = []\n",
        "        f_score_list = []\n",
        "        for i in range(num):\n",
        "            # print(test_predict_label[i])\n",
        "            # print(test_true_label[i])\n",
        "\n",
        "            acc = accuracy_score(test_true_label[i], test_predict_label[i])\n",
        "            prc,rec,f_score,_ = precision_recall_fscore_support(test_true_label[i], test_predict_label[i], average='macro')\n",
        "\n",
        "            if prc == 0 and rec == 0:\n",
        "                f_score = 0\n",
        "            else:\n",
        "                f_score = 2 * prc * rec / (prc + rec)\n",
        "\n",
        "            acc_list.append(acc)\n",
        "            prc_list.append(prc)\n",
        "            rec_list.append(rec)\n",
        "            f_score_list.append(f_score)\n",
        "\n",
        "        # print(prc_list)\n",
        "        # print(rec_list)\n",
        "\n",
        "        mean_prc = np.mean(prc_list)\n",
        "        mean_rec = np.mean(rec_list)\n",
        "        f_score = self.divide(2 * mean_prc * mean_rec, (mean_prc + mean_rec))\n",
        "        return mean_prc, mean_rec, f_score\n",
        "\n",
        "    @classmethod\n",
        "    def hoc_sentence2doc(self, input_df):\n",
        "        # Output variables\n",
        "        data = {}\n",
        "        input_labels_count = dict(zip(self.LABELS_HOC_FULL, [0]*len(self.LABELS_HOC_FULL))) # sentence\n",
        "\n",
        "        # Group sentence back into documents      \n",
        "        for i in range(len(input_df)):\n",
        "            input_row = input_df.iloc[i]\n",
        "            \n",
        "            key = input_row['index'][:input_row['index'].find('_')]\n",
        "\n",
        "            if key not in data:\n",
        "                data[key] = set()\n",
        "\n",
        "            if not pd.isna(input_row['labels']):\n",
        "                for l in input_row['labels'].split(','):\n",
        "                    ind,val = l.split('_')\n",
        "                    if(val != '0'):\n",
        "                        data[key].add(self.LABELS_HOC_FULL[int(ind)])\n",
        "                        input_labels_count[self.LABELS_HOC_FULL[int(ind)]] += 1\n",
        "\n",
        "        return data, input_labels_count\n",
        "\n",
        "    @classmethod\n",
        "    def hoc_labels2np(self, data):\n",
        "        labels_list = dict(zip(self.LABELS_HOC_FULL, [[],[],[],[],[],[],[],[],[],[]]))\n",
        "\n",
        "        y_np = []\n",
        "\n",
        "        for k, v in data.items():\n",
        "            # print(k)\n",
        "            # print(true,pred)\n",
        "            t = [0] * len(self.LABELS_HOC_FULL)\n",
        "            for i in v:\n",
        "                t[self.LABELS_HOC_FULL.index(i)] = 1\n",
        "\n",
        "            y_np.append(t)\n",
        "\n",
        "            for lab in self.LABELS_HOC_FULL:\n",
        "                if(lab in v):\n",
        "                    labels_list[lab].append(1)\n",
        "                else:\n",
        "                    labels_list[lab].append(0)\n",
        "\n",
        "        return np.array(y_np),labels_list\n",
        "\n",
        "    @classmethod\n",
        "    def analysis_hoc(self, input_df):\n",
        "        # Reformat to Paper evaluator format\n",
        "        input_df = input_df[['filename_line','label']].copy()\n",
        "        input_df.columns = ['index','labels']\n",
        "\n",
        "        data, labels_counts_sen = self.hoc_sentence2doc(input_df)\n",
        "\n",
        "        print_log('HoC Dataset Details')\n",
        "        print_log('No. of Documents:',len(data))\n",
        "        print_log('No. of Sentences:',len(input_df))\n",
        "        # print(labels_counts_sen)\n",
        "\n",
        "        y_np, labels_counts_doc = self.hoc_labels2np(data)\n",
        "        # print(y_np)\n",
        "        # print(labels_counts_doc)\n",
        "        res = pd.DataFrame()\n",
        "        for lab in self.LABELS_HOC_FULL:\n",
        "            print_log(lab,sum(labels_counts_doc[lab]),len(labels_counts_doc[lab]))\n",
        "            temp_df = pd.DataFrame([[sum(labels_counts_doc[lab]),len(labels_counts_doc[lab])]], columns=['sum','len'], index=[lab])\n",
        "            res = res.append(temp_df)\n",
        "\n",
        "        return res\n",
        "\n",
        "    @classmethod\n",
        "    def eval_hoc(self, input_df):   \n",
        "        print_log(\"eval hoc\",log_type=\"Function\")\n",
        "    \n",
        "        # Reformat to Paper evaluator format\n",
        "        ## Label need to be in a format of list of 10 cancers in fixed order\n",
        "        true_df = input_df[['filename_line','label']].copy()\n",
        "        pred_df = input_df[['filename_line','prediction']].copy()\n",
        "        true_df.columns = ['index','labels']\n",
        "        pred_df.columns = ['index','labels']\n",
        "\n",
        "        # Group sentence back into documents \n",
        "        data_true, true_labels_count_sen = self.hoc_sentence2doc(true_df)\n",
        "        data_pred, pred_labels_count_sen = self.hoc_sentence2doc(pred_df)\n",
        "\n",
        "        # merge data_true/pred into format of {'key':(set(true),set(pred))}\n",
        "        assert data_true.keys() == data_pred.keys(), 'Key mismatch'\n",
        "        all_keys = set(data_true.keys()).union(data_pred.keys()) \n",
        "\n",
        "        data = {}\n",
        "        for k in all_keys:\n",
        "            data[k] = (data_true[k],data_pred[k]) \n",
        "        # print(data)\n",
        "        assert len(data) == 371, 'There are 371 documents in the test set: %d' % len(data)\n",
        "        \n",
        "        print_log('HoC Dataset Details')\n",
        "        print_log('No. of Documents:',len(data))\n",
        "        print_log('No. of Sentences:',len(true_df),'/',len(pred_df))\n",
        "        print(true_labels_count_sen,pred_labels_count_sen)\n",
        "\n",
        "        # Write into dataframe\n",
        "        res_count_sen = pd.DataFrame()\n",
        "        for lab in self.LABELS_HOC_FULL:\n",
        "            temp_df = pd.DataFrame([[true_labels_count_sen[lab],pred_labels_count_sen[lab],len(true_df)]], columns=['sentence_count_label','sentence_count_pred','sentence_count_total'], index=[lab])\n",
        "            res_count_sen = res_count_sen.append(temp_df)\n",
        "        # print(res_count)\n",
        "\n",
        "        y_test, true_labels_count_doc = self.hoc_labels2np(data_true)\n",
        "        y_pred, pred_labels_count_doc = self.hoc_labels2np(data_pred)\n",
        "        \n",
        "        res_count_doc = pd.DataFrame()\n",
        "        for lab in self.LABELS_HOC_FULL:\n",
        "            temp_df = pd.DataFrame([[sum(true_labels_count_doc[lab]),sum(pred_labels_count_doc[lab]),len(true_labels_count_doc[lab])]], columns=['doc_count_label','doc_count_pred','doc_count_total'], index=[lab])\n",
        "            res_count_doc = res_count_doc.append(temp_df)\n",
        "        res_confmat = pd.DataFrame(columns=['tn','fp','fn','tp'])\n",
        "\n",
        "        # print(true_labels_list,pred_labels_list)\n",
        "        for lab in self.LABELS_HOC_FULL:\n",
        "            # print(lab)\n",
        "            df2 = pd.DataFrame([list(confusion_matrix(true_labels_count_doc[lab],pred_labels_count_doc[lab]).ravel())], columns=['tn','fp','fn','tp'], index=[lab])\n",
        "            res_confmat = res_confmat.append(df2)\n",
        "        # print(res_confmat)\n",
        "        df_res = pd.concat([res_confmat,res_count_sen,res_count_doc], axis=1)\n",
        "        print(df_res)\n",
        "\n",
        "        r, p, f1 = self.get_p_r_f_arrary(y_pred, y_test)\n",
        "        print('Precision: {:.6f}'.format(p))\n",
        "        print('Recall   : {:.6f}'.format(r))\n",
        "        print('F1       : {:.6f}'.format(f1))\n",
        "        return float(r), float(p), float(f1) , df_res\n",
        "\n",
        "    @classmethod\n",
        "    def multi_acc(self, y_pred, y_test):\n",
        "        y_pred_softmax = torch.log_softmax(y_pred, dim = 1)\n",
        "        _, y_pred_tags = torch.max(y_pred_softmax, dim = 1)    \n",
        "        \n",
        "        correct_pred = (y_pred_tags == y_test).float()\n",
        "        acc = correct_pred.sum() / len(correct_pred)\n",
        "        \n",
        "        acc = torch.round(acc * 100)\n",
        "        \n",
        "        return acc\n",
        "\n",
        "    @classmethod\n",
        "    def eval_pubmedqa(self, input_df):\n",
        "        class2idx = {\n",
        "                'no':0,\n",
        "                'maybe':1,\n",
        "                'yes':2\n",
        "        }\n",
        "        idx2class = {v: k for k, v in class2idx.items()}\n",
        "        input_df['label'].replace(idx2class, inplace=True)\n",
        "        input_df['prediction'].replace(idx2class, inplace=True)\n",
        "\n",
        "        confusion_matrix_df = pd.DataFrame(confusion_matrix(input_df.label.values, input_df.prediction.values))\n",
        "        class_report = classification_report(input_df.label.values, input_df.prediction.values, digits=3,output_dict = True)\n",
        "        print(class_report)\n",
        "        sns.heatmap(confusion_matrix_df, annot=True)\n",
        "        return class_report , confusion_matrix_df\n",
        "\n",
        "    @classmethod\n",
        "    def eval_bioasq(self, input_df):\n",
        "        class2idx = {\n",
        "                'no':0,\n",
        "                'yes':1\n",
        "        }\n",
        "        idx2class = {v: k for k, v in class2idx.items()}\n",
        "        input_df['label'].replace(idx2class, inplace=True)\n",
        "        input_df['prediction'].replace(idx2class, inplace=True)\n",
        "\n",
        "        confusion_matrix_df = pd.DataFrame(confusion_matrix(input_df.label.values, input_df.prediction.values))\n",
        "        class_report = classification_report(input_df.label.values, input_df.prediction.values, digits = 3,output_dict = True)\n",
        "        print(class_report)\n",
        "        sns.heatmap(confusion_matrix_df, annot=True)\n",
        "\n",
        "\n",
        "        acc = accuracy_score(input_df.label.values, input_df.prediction.values)\n",
        "        prc,rec,f_score,_ = precision_recall_fscore_support(input_df.label.values, input_df.prediction.values, average='macro')\n",
        "\n",
        "        print(\"acc\",acc)\n",
        "        print(\"prc\",prc)\n",
        "        print(\"rec\",rec)\n",
        "        print(\"f_score\",f_score)\n",
        "\n",
        "        return class_report , confusion_matrix_df\n",
        "\n",
        "# eval_hoc(temp_df)"
      ],
      "execution_count": null,
      "outputs": []
    },
    {
      "cell_type": "markdown",
      "metadata": {
        "id": "FLWyEgoiV6rC"
      },
      "source": [
        "#### For all folds"
      ]
    },
    {
      "cell_type": "code",
      "metadata": {
        "id": "XUClmB27BRJq"
      },
      "source": [
        "import torch\n",
        "torch.cuda.empty_cache()"
      ],
      "execution_count": null,
      "outputs": []
    },
    {
      "cell_type": "code",
      "metadata": {
        "id": "tvL4Yb_K9Vjg"
      },
      "source": [
        "task = \"HoC\"\n",
        "model_checkpoint = \"microsoft/BiomedNLP-PubMedBERT-base-uncased-abstract-fulltext\"\n",
        "# model_checkpoint = \"dmis-lab/biobert-base-cased-v1.1\"\n",
        "# model_checkpoint = \"bert-base-uncased\"\n",
        "\n",
        "LEARNING_RATE = 1e-5\n",
        "BATCH_SIZE = 8\n",
        "NUM_LABELS = 2\n",
        "MAX_LENGTH = 512"
      ],
      "execution_count": null,
      "outputs": []
    },
    {
      "cell_type": "code",
      "metadata": {
        "id": "Fkvy816WAVe3"
      },
      "source": [
        "metric_name = \"accuracy\"\n",
        "metric = load_metric(\"accuracy\")\n",
        "\n",
        "model_name = model_checkpoint.split(\"/\")[-1]"
      ],
      "execution_count": null,
      "outputs": []
    },
    {
      "cell_type": "code",
      "metadata": {
        "id": "UmvbnJ9JIrJd"
      },
      "source": [
        "def compute_metrics(eval_pred):\n",
        "    predictions, labels = eval_pred\n",
        "    # predictions = predictions[:, 0]\n",
        "    predictions = np.argmax(predictions, axis=1)\n",
        "    return metric.compute(predictions=predictions, references=labels)"
      ],
      "execution_count": null,
      "outputs": []
    },
    {
      "cell_type": "code",
      "metadata": {
        "id": "uiG9Jpb59beP"
      },
      "source": [
        "tokenizer = AutoTokenizer.from_pretrained(model_checkpoint, use_fast=True)\n",
        "\n",
        "def preprocess_function(examples):\n",
        "    return tokenizer(examples[\"sentence\"], truncation=True,padding=True,max_length=MAX_LENGTH)"
      ],
      "execution_count": null,
      "outputs": []
    },
    {
      "cell_type": "code",
      "metadata": {
        "id": "bCR08oLsrs8r"
      },
      "source": [
        "from sklearn.metrics import precision_score, recall_score, f1_score, accuracy_score, confusion_matrix, matthews_corrcoef\n",
        "from sklearn.metrics import precision_recall_fscore_support,accuracy_score\n",
        "\n",
        "# r, p, f1, _ = my_evaluator.eval_hoc(output_df)"
      ],
      "execution_count": null,
      "outputs": []
    },
    {
      "cell_type": "code",
      "metadata": {
        "id": "my89WmvDrqjz"
      },
      "source": [
        "def format_output(list_output,filename=\"result_adapter_hoc.csv\"):\n",
        "    list_df_labels = []\n",
        "    list_df_preds = []\n",
        "    for k,v in list_output.items():\n",
        "        print(k,v)\n",
        "        y_pred = np.argmax(v.predictions, axis=1)\n",
        "        temp_df = pd.DataFrame(data=y_pred, columns=[k])\n",
        "        list_df_preds.append(temp_df)\n",
        "\n",
        "        y_true = v.label_ids\n",
        "        temp_df = pd.DataFrame(data=y_true, columns=[k])\n",
        "        list_df_labels.append(temp_df)\n",
        "\n",
        "    temp_df_lab = pd.DataFrame(data=dataset[\"test\"]['index'], columns=[\"filename_line\"])\n",
        "    temp_df_lab\n",
        "\n",
        "\n",
        "    list_cancer = ['label_IM', 'label_ID', 'label_CE', 'label_RI', 'label_GS', 'label_GI', 'label_A', 'label_CD', 'label_PS', 'label_TPI']\n",
        "        \n",
        "    temp_df = pd.concat(list_df_labels,axis=1)\n",
        "    for col in temp_df.columns:\n",
        "        print(col)\n",
        "        temp_df[col] = str(list_cancer.index(col))+'_'+temp_df[col].astype(str)\n",
        "    temp_df['label'] = temp_df.apply(lambda x: ','.join(x.dropna().values.tolist()), axis=1)\n",
        "    temp_df\n",
        "\n",
        "    temp_df2 = pd.concat(list_df_preds,axis=1)\n",
        "    for col in temp_df2.columns:\n",
        "        print(col)\n",
        "        temp_df2[col] = str(list_cancer.index(col))+'_'+temp_df2[col].astype(str)\n",
        "    temp_df2['prediction'] = temp_df2.apply(lambda x: ','.join(x.dropna().values.tolist()), axis=1)\n",
        "    temp_df2\n",
        "\n",
        "    temp_df3 = pd.concat([temp_df_lab,temp_df.label,temp_df2.prediction], axis=1)\n",
        "    temp_df3\n",
        "\n",
        "    temp_df3.to_csv(DATAPATH+filename)\n",
        "\n",
        "    return temp_df3\n",
        "\n",
        "# output_df = format_output(list_output,\"result_adapter_hoc_\"+model_name+\"_\"+LEARNING_RATE+\".csv\")"
      ],
      "execution_count": null,
      "outputs": []
    },
    {
      "cell_type": "code",
      "metadata": {
        "id": "QLUxtIZTrn1s"
      },
      "source": [
        "def train_adapter_hoc(LANG_MODEL,LEARNING_RATE):\n",
        "    model_name = LANG_MODEL.split(\"/\")[-1]\n",
        "    print(\"--------\",model_name,LEARNING_RATE,\"--------\")\n",
        "    training_args = TrainingArguments(\n",
        "        learning_rate=LEARNING_RATE,\n",
        "        num_train_epochs=6,\n",
        "        per_device_train_batch_size=BATCH_SIZE,\n",
        "        per_device_eval_batch_size=BATCH_SIZE,\n",
        "        eval_accumulation_steps=1,\n",
        "        logging_steps=200,\n",
        "        output_dir=\"./training_output\",\n",
        "        overwrite_output_dir=True,\n",
        "        # The next line is important to ensure the dataset labels are properly passed to the model\n",
        "        remove_unused_columns=False,\n",
        "    )\n",
        "    list_f1 = []\n",
        "    list_output = {}\n",
        "    for lab in HOC_LABEL_LIST:\n",
        "        torch.cuda.empty_cache()\n",
        "\n",
        "        print(\"###### LAB\",lab,\"######\")\n",
        "\n",
        "        HOC_LABEL_LIST_temp = HOC_LABEL_LIST.copy()\n",
        "        HOC_LABEL_LIST_temp.remove(lab)\n",
        "\n",
        "        # dataset_lab = dataset.remove_columns(HOC_LABEL_LIST[1:])\n",
        "\n",
        "        dataset_lab = dataset.remove_columns(HOC_LABEL_LIST_temp)\n",
        "        print(\"num_rows\",dataset_lab.num_rows)\n",
        "        # print(dataset_lab)\n",
        "\n",
        "        encoded_dataset = dataset_lab.map(preprocess_function, batched=True)\n",
        "        encoded_dataset.rename_column_(lab, \"labels\")\n",
        "        encoded_dataset.set_format(type=\"torch\", columns=[\"input_ids\", \"attention_mask\",\"labels\"])\n",
        "        print(encoded_dataset)\n",
        "\n",
        "        # dataset_lab.rename_column_(lab, \"labels\")\n",
        "        # dataset_lab.set_format(type=\"torch\", columns=[\"input_ids\", \"attention_mask\", \"labels\"])\n",
        "        # dataset_lab = dataset_lab.class_encode_column(\"labels\")\n",
        "        # encoded_dataset = dataset_lab.map(preprocess_function, batched=True)\n",
        "        # encoded_dataset.set_format(type=\"torch\", columns=[\"input_ids\", \"attention_mask\",\"labels\"])\n",
        "\n",
        "        print(\"Setup model\",model_checkpoint)\n",
        "        config = AutoConfig.from_pretrained(\n",
        "            model_checkpoint,\n",
        "            num_labels=2,\n",
        "        )\n",
        "        model = AutoModelWithHeads.from_pretrained(\n",
        "            model_checkpoint,\n",
        "            config=config,\n",
        "        )\n",
        "\n",
        "        # Add a new adapter\n",
        "        model.add_adapter(\"hoc\")\n",
        "        # Add a matching classification head\n",
        "        model.add_classification_head(\n",
        "            \"hoc\",\n",
        "            num_labels=2,\n",
        "            # id2label={ 0: \"👎\", 1: \"👍\"}\n",
        "          )\n",
        "        # Activate the adapter\n",
        "        model.train_adapter(\"hoc\")\n",
        "\n",
        "        trainer = Trainer(\n",
        "            model=model,\n",
        "            args=training_args,\n",
        "            train_dataset=encoded_dataset[\"train\"],\n",
        "            eval_dataset=encoded_dataset[\"validation\"],\n",
        "            compute_metrics=compute_accuracy,\n",
        "        )\n",
        "\n",
        "        trainer.train()\n",
        "\n",
        "        eval_pred = trainer.predict(encoded_dataset['test'])\n",
        "        list_output[lab] = eval_pred\n",
        "\n",
        "    output_df = format_output(list_output,\"result_adapter_hoc_\"+model_name+\"_\"+str(LEARNING_RATE)+\".csv\")\n",
        "    r, p, f1, _ = my_evaluator.eval_hoc(output_df)\n",
        "    print(\"\")\n",
        "    print(\"+++++\",\"+++++\")\n",
        "    print(\"+++++\",\"r\",r,\"+++++\")\n",
        "    print(\"+++++\",\"p\",p,\"+++++\")\n",
        "    print(\"+++++\",\"F1\",f1,\"+++++\")\n",
        "    print(\"+++++\",\"+++++\")\n",
        "    print(\"\")\n",
        "\n",
        "\n",
        "for model in [\"bert-base-uncased\"]:\n",
        "    for lr in [5e-5]:\n",
        "        train_adapter_hoc(model,lr)"
      ],
      "execution_count": null,
      "outputs": []
    },
    {
      "cell_type": "code",
      "metadata": {
        "id": "WVg9Pyu3y8po"
      },
      "source": [
        "list_f1 = []\n",
        "list_output = {}\n",
        "for lab in HOC_LABEL_LIST:\n",
        "    torch.cuda.empty_cache()\n",
        "    print(\"###### LAB\",lab,\"######\")\n",
        "\n",
        "    HOC_LABEL_LIST_temp = HOC_LABEL_LIST.copy()\n",
        "    HOC_LABEL_LIST_temp.remove(lab)\n",
        "\n",
        "    dataset_lab = dataset.remove_columns(HOC_LABEL_LIST_temp)\n",
        "    dataset_lab.rename_column_(lab, \"labels\")\n",
        "    dataset_lab = dataset_lab.class_encode_column(\"labels\")\n",
        "\n",
        "    print(\"num_rows\",dataset_lab.num_rows)\n",
        "    print(dataset_lab['train'].features)\n",
        "\n",
        "    encoded_dataset = dataset_lab.map(preprocess_function, batched=True)\n",
        "    encoded_dataset.set_format(type=\"torch\", columns=[\"input_ids\", \"attention_mask\",\"labels\"])\n",
        "\n",
        "    model = AutoModelForSequenceClassification.from_pretrained(model_checkpoint, num_labels=NUM_LABELS)\n",
        "\n",
        "    args = TrainingArguments(\n",
        "            f\"{model_name}-finetuned-{task}\",\n",
        "            evaluation_strategy = \"epoch\",\n",
        "            save_strategy = \"epoch\",\n",
        "            learning_rate=LEARNING_RATE,\n",
        "            per_device_train_batch_size=BATCH_SIZE,\n",
        "            per_device_eval_batch_size=BATCH_SIZE,\n",
        "            eval_accumulation_steps=1,\n",
        "            num_train_epochs=6,\n",
        "            weight_decay=0.01,\n",
        "            load_best_model_at_end=True,\n",
        "            metric_for_best_model=metric_name,\n",
        "            # The next line is important to ensure the dataset labels are properly passed to the model\n",
        "            remove_unused_columns=True,\n",
        "            # push_to_hub=True,\n",
        "            # push_to_hub_model_id=f\"{model_name}-finetuned-{task}\",\n",
        "        )\n",
        "\n",
        "    trainer = Trainer(\n",
        "            model,\n",
        "            args,\n",
        "            train_dataset=encoded_dataset[\"train\"],\n",
        "            eval_dataset=encoded_dataset[\"validation\"],\n",
        "            tokenizer=tokenizer,\n",
        "            compute_metrics=compute_metrics,\n",
        "        )\n",
        "\n",
        "    trainer.train()\n",
        "\n",
        "    commit_msg = \"\"\n",
        "    commit_msg += \"BATCH_SIZE=\"+str(BATCH_SIZE)+\"\\n\"\n",
        "    commit_msg += \"LEARNING_RATE=\"+str(LEARNING_RATE)+\"\\n\"\n",
        "    commit_msg += \"MAX_LENGTH=\"+str(MAX_LENGTH)+\"\\n\"\n",
        "    commit_msg += \"LABEL=\"+lab+\"\\n\"\n",
        "\n",
        "    # trainer.push_to_hub(commit_msg)\n",
        "    # output = trainer.evaluate(encoded_dataset['test'])\n",
        "    # list_f1.append(output)\n",
        "\n",
        "    eval_pred = trainer.predict(encoded_dataset['test'])\n",
        "    list_output[lab] = eval_pred\n",
        "    # temp = {}\n",
        "    # temp['predictions'] = eval_pred['predictions']\n",
        "    # temp['label_ids'] = eval_pred['label_ids']\n",
        "    # list_output[lab] = temp\n"
      ],
      "execution_count": null,
      "outputs": []
    },
    {
      "cell_type": "code",
      "metadata": {
        "id": "vxmTy0jwHUBU"
      },
      "source": [
        "list_df_labels = []\n",
        "list_df_preds = []\n",
        "for k,v in list_output.items():\n",
        "    print(k,v)\n",
        "    y_pred = np.argmax(v.predictions, axis=1)\n",
        "    temp_df = pd.DataFrame(data=y_pred, columns=[k])\n",
        "    list_df_preds.append(temp_df)\n",
        "\n",
        "    y_true = v.label_ids\n",
        "    temp_df = pd.DataFrame(data=y_true, columns=[k])\n",
        "    list_df_labels.append(temp_df)"
      ],
      "execution_count": null,
      "outputs": []
    },
    {
      "cell_type": "code",
      "metadata": {
        "id": "7AawmOW9Gzmh"
      },
      "source": [
        "temp_df_lab = pd.DataFrame(data=dataset[\"test\"]['index'], columns=[\"filename_line\"])\n",
        "temp_df_lab"
      ],
      "execution_count": null,
      "outputs": []
    },
    {
      "cell_type": "code",
      "metadata": {
        "id": "1RJNvdOvIKy8"
      },
      "source": [
        "list_cancer = ['label_IM', 'label_ID', 'label_CE', 'label_RI', 'label_GS', 'label_GI', 'label_A', 'label_CD', 'label_PS', 'label_TPI']\n",
        "    \n",
        "temp_df = pd.concat(list_df_labels,axis=1)\n",
        "for col in temp_df.columns:\n",
        "    print(col)\n",
        "    temp_df[col] = str(list_cancer.index(col))+'_'+temp_df[col].astype(str)\n",
        "temp_df['label'] = temp_df.apply(lambda x: ','.join(x.dropna().values.tolist()), axis=1)\n",
        "temp_df"
      ],
      "execution_count": null,
      "outputs": []
    },
    {
      "cell_type": "code",
      "metadata": {
        "id": "chuI0S4VNhQ8"
      },
      "source": [
        "temp_df2 = pd.concat(list_df_preds,axis=1)\n",
        "for col in temp_df2.columns:\n",
        "    print(col)\n",
        "    temp_df2[col] = str(list_cancer.index(col))+'_'+temp_df2[col].astype(str)\n",
        "temp_df2['prediction'] = temp_df2.apply(lambda x: ','.join(x.dropna().values.tolist()), axis=1)\n",
        "temp_df2"
      ],
      "execution_count": null,
      "outputs": []
    },
    {
      "cell_type": "code",
      "metadata": {
        "id": "o9kTu--bNjEb"
      },
      "source": [
        "temp_df3 = pd.concat([temp_df_lab,temp_df.label,temp_df2.prediction], axis=1)\n",
        "temp_df3"
      ],
      "execution_count": null,
      "outputs": []
    },
    {
      "cell_type": "code",
      "metadata": {
        "id": "FmANd9_5FcE_"
      },
      "source": [
        "from sklearn.metrics import precision_score, recall_score, f1_score, accuracy_score, confusion_matrix, matthews_corrcoef\n",
        "from sklearn.metrics import precision_recall_fscore_support,accuracy_score\n",
        "\n",
        "r, p, f1, _ = my_evaluator.eval_hoc(temp_df3)"
      ],
      "execution_count": null,
      "outputs": []
    }
  ]
}